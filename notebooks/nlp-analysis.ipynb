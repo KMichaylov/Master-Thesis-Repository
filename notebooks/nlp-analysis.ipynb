{
 "cells": [
  {
   "metadata": {},
   "cell_type": "markdown",
   "source": "# Case Study Tracing Evolutionary Changes in APIs - Preparation Phase",
   "id": "39e18150cfd283ca"
  },
  {
   "metadata": {},
   "cell_type": "markdown",
   "source": [
    "The following case study aims at performing an analysis on 2 Java APIs. The first API is *JUnit4*, the dataset for which is already constructed from another study. The second API is AppCompat for which we need to manually construct the dataset and analyse the evolution.\n",
    "\n",
    "## Goal\n",
    "Our goal is to investigate the feasibility of the machine learning approach. This will be achieved via the following steps:\n",
    "- Read the Excel sheets and analyze the data\n",
    "- Extract important features such as the \"Changes\" column and then perform Natural Language Processing Techniques on them, such as tokenization\n",
    "- Train the algorithm to perform classification\n",
    "- Check the accuracy of the algorithm\n",
    "- In the final stage, be able to classify solely based on the \"Changes\" column\n",
    "First, we start with importing the necessary libraries and defining the file paths"
   ],
   "id": "c2ef68a00c9599dc"
  },
  {
   "metadata": {},
   "cell_type": "markdown",
   "source": [
    "## Some implementation ideas/goals\n",
    " - Analyse for each category what are the most popular words, basically what infers that there is a Bug change, etc.\n",
    " - Try to predict the category of the change based on the trained data\n",
    " - At later stage, try the following: \"A really interesting question will be which changes impacting the architecture of the system are represented in the release log. This way you essentially combine the two RQs and the make even more sense.\" For example, are breaking changes represented in the release log, etc."
   ],
   "id": "9674425ccc84e094"
  },
  {
   "metadata": {
    "ExecuteTime": {
     "end_time": "2024-12-29T11:12:46.346727Z",
     "start_time": "2024-12-29T11:12:46.344124Z"
    }
   },
   "cell_type": "code",
   "source": [
    "import pandas as pd\n",
    "import re\n",
    "import numpy as np\n",
    "import nltk\n",
    "from nltk import SnowballStemmer, NaiveBayesClassifier\n",
    "from nltk.tokenize import word_tokenize\n",
    "from sklearn.model_selection import train_test_split\n",
    "from nltk.corpus import stopwords\n",
    "from nltk.stem import PorterStemmer, SnowballStemmer\n",
    "from sklearn.feature_extraction.text import TfidfVectorizer\n",
    "from sklearn.preprocessing import LabelEncoder\n",
    "from nltk.stem import WordNetLemmatizer\n",
    "from sklearn.linear_model import LogisticRegression\n",
    "from sklearn.metrics import accuracy_score, classification_report, recall_score, precision_score, f1_score\n",
    "# TODO: See if this is useful\n",
    "import joblib"
   ],
   "id": "7a858da6431fc83",
   "outputs": [],
   "execution_count": 81
  },
  {
   "metadata": {
    "ExecuteTime": {
     "end_time": "2024-12-29T11:12:46.352890Z",
     "start_time": "2024-12-29T11:12:46.350046Z"
    }
   },
   "cell_type": "code",
   "source": [
    "file_path = \"../resources/JUnit/JUnit - Training.xlsx\"\n",
    "sheet_name = \"JUnit\""
   ],
   "id": "e704111592465856",
   "outputs": [],
   "execution_count": 82
  },
  {
   "metadata": {},
   "cell_type": "markdown",
   "source": "After defining our path, the first thing we do is to display part of our data, in order to check if everything is working correctly.",
   "id": "3b93b6a313812eff"
  },
  {
   "metadata": {
    "ExecuteTime": {
     "end_time": "2024-12-29T11:12:46.426012Z",
     "start_time": "2024-12-29T11:12:46.364168Z"
    }
   },
   "cell_type": "code",
   "source": [
    "data = pd.read_excel(file_path, sheet_name=sheet_name)\n",
    "\n",
    "print(data.head())"
   ],
   "id": "2c3cc6db5c1921fc",
   "outputs": [
    {
     "name": "stdout",
     "output_type": "stream",
     "text": [
      "       Year1  Year       Date        Version RELEASE  \\\n",
      "0  +15 years  2021 2021-02-13  4.13.  4.13.2   PATCH   \n",
      "1  +15 years  2021 2021-02-13  4.13.  4.13.2   PATCH   \n",
      "2  +15 years  2021 2021-02-13  4.13.  4.13.2   PATCH   \n",
      "3  +15 years  2021 2021-02-13  4.13.  4.13.2   PATCH   \n",
      "4  +14 years  2020 2020-10-11  4.13.  4.13.1   PATCH   \n",
      "\n",
      "                                             Changes  By          .1 Type  \\\n",
      "0                                                NaN NaN         NaN  NaN   \n",
      "1  Pull request #1687: Mark ThreadGroups created ... NaN       Rules  NaN   \n",
      "2  Pull request $1691: Only create ThreadGroups i... NaN       Rules  NaN   \n",
      "3  Pull request #1654: Fix for issue #1192: NotSe... NaN  Exceptions  NaN   \n",
      "4                                                NaN NaN         NaN  NaN   \n",
      "\n",
      "             General General Category  \n",
      "0                NaN              NaN  \n",
      "1     Fix regression          Bug fix  \n",
      "2     Fix regression          Bug fix  \n",
      "3  Fix serialization          Bug fix  \n",
      "4                NaN              NaN  \n"
     ]
    }
   ],
   "execution_count": 83
  },
  {
   "metadata": {},
   "cell_type": "markdown",
   "source": [
    "In the next parts, we will focus on building the classifier.\n",
    "### 1. Tokenize the \"Changes\" column\n",
    "First we clean the data from non-alphabetic characters and then perform the tokenization of the \"Changes\" column. After that we remove any stopwords, so that the output is cleaner and easier to analyse in later steps"
   ],
   "id": "3289874075af974b"
  },
  {
   "metadata": {
    "ExecuteTime": {
     "end_time": "2024-12-29T11:12:46.514958Z",
     "start_time": "2024-12-29T11:12:46.496951Z"
    }
   },
   "cell_type": "code",
   "source": [
    "# Import tokenizer model\n",
    "# Make sure to download the following\n",
    "# nltk.download('punkt')\n",
    "nltk.download('punkt_tab')\n",
    "nltk.download('stopwords')\n",
    "\n",
    "data[\"Changes\"] = data[\"Changes\"].fillna(\"\")\n",
    "print(data[\"Changes\"].head())\n",
    "data[\"Tokens\"] = data[\"Changes\"].apply(word_tokenize)\n",
    "\n",
    "# print(data[[\"Tokens\", \"Changes\"]].head())\n",
    "\n",
    "# Define the stopwords in a set.\n",
    "stop_words = set(stopwords.words(\"english\"))\n",
    "\n",
    "data[\"Tokens\"] = data[\"Tokens\"].apply(lambda tokens: [word.lower() for word in tokens if re.match(r'^[a-zA-Z]+$',\n",
    "                                                                                                  word) and word.casefold() not in stop_words])\n",
    "print(\"Data without stop words and solely alphabetical tokens: \")\n",
    "print(data[\"Tokens\"].head())\n"
   ],
   "id": "6183a2610fcaca26",
   "outputs": [
    {
     "name": "stdout",
     "output_type": "stream",
     "text": [
      "0                                                     \n",
      "1    Pull request #1687: Mark ThreadGroups created ...\n",
      "2    Pull request $1691: Only create ThreadGroups i...\n",
      "3    Pull request #1654: Fix for issue #1192: NotSe...\n",
      "4                                                     \n",
      "Name: Changes, dtype: object\n",
      "Data without stop words and solely alphabetical tokens: \n",
      "0                                                   []\n",
      "1    [pull, request, mark, threadgroups, created, f...\n",
      "2          [pull, request, create, threadgroups, true]\n",
      "3    [pull, request, fix, issue, notserializableexc...\n",
      "4                                                   []\n",
      "Name: Tokens, dtype: object\n"
     ]
    },
    {
     "name": "stderr",
     "output_type": "stream",
     "text": [
      "[nltk_data] Downloading package punkt_tab to\n",
      "[nltk_data]     C:\\Users\\Krisi\\AppData\\Roaming\\nltk_data...\n",
      "[nltk_data]   Package punkt_tab is already up-to-date!\n",
      "[nltk_data] Downloading package stopwords to\n",
      "[nltk_data]     C:\\Users\\Krisi\\AppData\\Roaming\\nltk_data...\n",
      "[nltk_data]   Package stopwords is already up-to-date!\n"
     ]
    }
   ],
   "execution_count": 84
  },
  {
   "metadata": {},
   "cell_type": "markdown",
   "source": [
    "In the next parts, we will focus on building the classifier.\n",
    "### 2. Stem the output\n",
    "The next step is to stem the output, the reason for doing this is to focus on the basic meaning of the word."
   ],
   "id": "fbdb6f062e586764"
  },
  {
   "metadata": {
    "ExecuteTime": {
     "end_time": "2024-12-29T11:12:46.537512Z",
     "start_time": "2024-12-29T11:12:46.526542Z"
    }
   },
   "cell_type": "code",
   "source": [
    "stemmer = SnowballStemmer(\"english\")\n",
    "\n",
    "# Apply the stemmer\n",
    "data[\"Stemmed_Tokens\"] = data[\"Tokens\"].apply(\n",
    "    lambda tokens: [stemmer.stem(word) for word in tokens if isinstance(word, str)]\n",
    ")\n",
    "\n",
    "print(\"Stemmed tokens: \")\n",
    "print(data[[\"Tokens\", \"Stemmed_Tokens\"]].head())"
   ],
   "id": "a19fb723a52f8c74",
   "outputs": [
    {
     "name": "stdout",
     "output_type": "stream",
     "text": [
      "Stemmed tokens: \n",
      "                                              Tokens  \\\n",
      "0                                                 []   \n",
      "1  [pull, request, mark, threadgroups, created, f...   \n",
      "2        [pull, request, create, threadgroups, true]   \n",
      "3  [pull, request, fix, issue, notserializableexc...   \n",
      "4                                                 []   \n",
      "\n",
      "                                      Stemmed_Tokens  \n",
      "0                                                 []  \n",
      "1  [pull, request, mark, threadgroup, creat, fail...  \n",
      "2          [pull, request, creat, threadgroup, true]  \n",
      "3  [pull, request, fix, issu, notserializableexce...  \n",
      "4                                                 []  \n"
     ]
    }
   ],
   "execution_count": 85
  },
  {
   "metadata": {},
   "cell_type": "markdown",
   "source": [
    "### 3. Feature engineering\n",
    "After clearing the input, the next step is to extract features which will be suitable for the machine learning model. For this, we use TF-IDF (Term Frequency-Inverse Document Frequency).\n"
   ],
   "id": "ea09bf9e14d1b680"
  },
  {
   "metadata": {
    "ExecuteTime": {
     "end_time": "2024-12-29T11:12:46.556622Z",
     "start_time": "2024-12-29T11:12:46.548129Z"
    }
   },
   "cell_type": "code",
   "source": [
    "vectorizer = TfidfVectorizer(max_features=1000, ngram_range=(1, 2))\n",
    "# TODO: Check if this is correct and makes sense\n",
    "print(data[\"Stemmed_Tokens\"].head())\n",
    "\n",
    "documents = data[\"Stemmed_Tokens\"].apply(lambda tokens: ' '.join(tokens) if isinstance(tokens, list) else '')\n",
    "\n",
    "X = vectorizer.fit_transform(documents)\n",
    "\n",
    "print(X.shape)"
   ],
   "id": "644ce44abc52786d",
   "outputs": [
    {
     "name": "stdout",
     "output_type": "stream",
     "text": [
      "0                                                   []\n",
      "1    [pull, request, mark, threadgroup, creat, fail...\n",
      "2            [pull, request, creat, threadgroup, true]\n",
      "3    [pull, request, fix, issu, notserializableexce...\n",
      "4                                                   []\n",
      "Name: Stemmed_Tokens, dtype: object\n",
      "(271, 1000)\n"
     ]
    }
   ],
   "execution_count": 86
  },
  {
   "metadata": {},
   "cell_type": "markdown",
   "source": [
    "### 4. Labels preparation\n",
    "Once the data is prepared, the next step is to define the lables which will be used for categorization."
   ],
   "id": "e591acc2c986dbf9"
  },
  {
   "metadata": {
    "ExecuteTime": {
     "end_time": "2024-12-29T11:12:46.570354Z",
     "start_time": "2024-12-29T11:12:46.567188Z"
    }
   },
   "cell_type": "code",
   "source": [
    "label_encoder = LabelEncoder()\n",
    "print(data[\"General Category\"].head())\n",
    "y = label_encoder.fit_transform(data[\"General Category\"])\n",
    "print(y)\n"
   ],
   "id": "31beeba77b5911b",
   "outputs": [
    {
     "name": "stdout",
     "output_type": "stream",
     "text": [
      "0        NaN\n",
      "1    Bug fix\n",
      "2    Bug fix\n",
      "3    Bug fix\n",
      "4        NaN\n",
      "Name: General Category, dtype: object\n",
      "[10  1  1  1 10  8  2 10  5  0  5  2  1  3  2  1  5  1  1  1  5  1  6  0\n",
      "  1  1  0  2  2  1  0  1  4  1  1  1  1  1  1  1  5  1  1  1  0  1  0  3\n",
      "  4  1  3  1  1  0  2  1  2  1  1  2  2  2  0  1  1  1 10  0  0  7  0  0\n",
      "  0  1  1  0  1  1  1  5  1  0  2  1  0  0  0  3  1  1  1  0  0  0  2  0\n",
      "  1  1  1  4  1  1  5  1  1  0  0  1  1  1  0  2  0  5  9  9  5  1  7 10\n",
      "  0  0  2  2  2  2  5  0  0  0  0  0 10  1  0  2  2  1  1  1  4  4  4  4\n",
      "  7  1  1  1  1  2  1  0 10  0  2  3  2  2  1  1  1  1  1  1  1  5  4  2\n",
      "  5  1 10  1 10  1 10  0  1 10  0  0  0  0  0  0  0  0  2  2  4  4  4  4\n",
      "  1  1  1 10  0  0  0  0  4  4  2  1  1 10  2  1  1  1  2  0  0  0  0  5\n",
      "  2  0  0  0  0  5  7  2  2  4  0  2  0  2 10  0  0  0  0  1  1  2  5  5\n",
      "  1  1 10  1  1 10  2  3  0  2  5  1  1  1  2  4 10  1  1  5  1 10  1  2\n",
      "  1  4  4  4  2 10  2]\n"
     ]
    }
   ],
   "execution_count": 87
  },
  {
   "metadata": {},
   "cell_type": "markdown",
   "source": [
    "### 5. Split training and testing data\n",
    "The next step is to prepare the training and testing data for the machine learning model. We use the 80/20 rule regarding the split between training and test and the random state 42, to ensure that the experiment is reproducible."
   ],
   "id": "a078e98172ea5daa"
  },
  {
   "metadata": {
    "ExecuteTime": {
     "end_time": "2024-12-29T11:12:46.584099Z",
     "start_time": "2024-12-29T11:12:46.580972Z"
    }
   },
   "cell_type": "code",
   "source": [
    "X_train, X_test, y_train, y_test = train_test_split(X, y, test_size=0.2, random_state=42)\n",
    "\n",
    "print(\"Training data shape: \", X_train.shape)\n",
    "print(\"Test data: \", X_test.shape)\n"
   ],
   "id": "355bfb912371cd14",
   "outputs": [
    {
     "name": "stdout",
     "output_type": "stream",
     "text": [
      "Training data shape:  (216, 1000)\n",
      "Test data:  (55, 1000)\n"
     ]
    }
   ],
   "execution_count": 88
  },
  {
   "metadata": {},
   "cell_type": "markdown",
   "source": [
    "### 6. Train model\n",
    "After the data is split and prepared, we then train the classifier. For this we use ... and check the accuracy, precision, recall and F1 score of the model.\n"
   ],
   "id": "a8fabebed7dce91d"
  },
  {
   "metadata": {
    "ExecuteTime": {
     "end_time": "2024-12-29T11:12:46.733782Z",
     "start_time": "2024-12-29T11:12:46.594913Z"
    }
   },
   "cell_type": "code",
   "source": [
    "from sklearn.ensemble import RandomForestClassifier\n",
    "# Desired Thresholds for metrics:\n",
    "# Accuracy -> above 75%\n",
    "# Precision -> above 70%\n",
    "# Recall -> above 60%\n",
    "# F1-score -> above 55%\n",
    "classifier = RandomForestClassifier(n_estimators=100, random_state=42)\n",
    "classifier.fit(X_train, y_train)\n",
    "# 7. Log loss might also be useful metric\n",
    "y_pred = classifier.predict(X_test)\n",
    "print(\"Accuracy:\", accuracy_score(y_test, y_pred))\n",
    "# We use average, since we care equally about all classes\n",
    "print(\"Recall:\", recall_score(y_test, y_pred, average=\"macro\"))\n",
    "print(\"Precision:\", precision_score(y_test, y_pred, average=\"macro\"))\n",
    "print(\"F1-score:\", f1_score(y_test, y_pred, average=\"macro\"))\n",
    "# print(\"Classification Report:\\n\", classification_report(y_test, y_pred, target_names=label_encoder.classes_))"
   ],
   "id": "495f1e215db96e93",
   "outputs": [
    {
     "name": "stdout",
     "output_type": "stream",
     "text": [
      "Accuracy: 0.5272727272727272\n",
      "Recall: 0.2655555555555556\n",
      "Precision: 0.2487012987012987\n",
      "F1-score: 0.20306275433711712\n"
     ]
    },
    {
     "name": "stderr",
     "output_type": "stream",
     "text": [
      "F:\\Programming Tasks\\Master-Thesis-Repository\\.venv\\Lib\\site-packages\\sklearn\\metrics\\_classification.py:1565: UndefinedMetricWarning: Precision is ill-defined and being set to 0.0 in labels with no predicted samples. Use `zero_division` parameter to control this behavior.\n",
      "  _warn_prf(average, modifier, f\"{metric.capitalize()} is\", len(result))\n"
     ]
    }
   ],
   "execution_count": 89
  },
  {
   "metadata": {},
   "cell_type": "markdown",
   "source": [
    "### 7 Data Exploration and Analysis\n",
    "After training the model, we focus on exploring and visualizing parts of the dataset. Particularly, we check which words are associated to certain classes, what is their frequency and"
   ],
   "id": "58d38d886e8e22b3"
  },
  {
   "metadata": {
    "ExecuteTime": {
     "end_time": "2024-12-29T11:12:46.856270Z",
     "start_time": "2024-12-29T11:12:46.755084Z"
    }
   },
   "cell_type": "code",
   "source": [
    "# Word frequencies\n",
    "from collections import Counter\n",
    "import matplotlib.pyplot as plt\n",
    "\n",
    "all_stemmed_words = [word for tokens in data[\"Stemmed_Tokens\"] for word in tokens]\n",
    "stemmed_word_freq = Counter(all_stemmed_words)\n",
    "\n",
    "most_common_stemmed_words = stemmed_word_freq.most_common(20)\n",
    "words, counts = zip(*most_common_stemmed_words)\n",
    "\n",
    "plt.figure(figsize=(10, 6))\n",
    "plt.bar(words, counts)\n",
    "plt.xticks(rotation=45)\n",
    "plt.title(\"Top 20 Most Frequent Stemmed Words\")\n",
    "plt.show()"
   ],
   "id": "fb2733660f1ff0db",
   "outputs": [
    {
     "data": {
      "text/plain": [
       "<Figure size 1000x600 with 1 Axes>"
      ],
      "image/png": "[encoded data removed]"
     },
     "metadata": {},
     "output_type": "display_data"
    }
   ],
   "execution_count": 90
  },
  {
   "metadata": {
    "ExecuteTime": {
     "end_time": "2024-12-29T11:12:47.832526Z",
     "start_time": "2024-12-29T11:12:46.871109Z"
    }
   },
   "cell_type": "code",
   "source": [
    "# Dispersion Plots\n",
    "import seaborn as sns\n",
    "\n",
    "category_words = data.groupby('General Category')['Stemmed_Tokens'].apply(\n",
    "    lambda tokens: [word for token_list in tokens for word in token_list]\n",
    ")\n",
    "\n",
    "category_word_freq = category_words.apply(Counter)\n",
    "\n",
    "for category, freq in category_word_freq.items():\n",
    "    most_common = dict(freq.most_common(10))\n",
    "\n",
    "    plt.figure(figsize=(10, 6))\n",
    "    sns.barplot(x=list(most_common.keys()), y=list(most_common.values()))\n",
    "    file_name = category.replace(\" \", \"_\")\n",
    "    plt.title(f\"Top Words in Category: {category}\")\n",
    "    plt.xticks(rotation=45)\n",
    "    plt.tight_layout()\n",
    "\n",
    "    plt.savefig(f\"../resources/diagrams/top_words_{file_name}.png\", format='png')\n",
    "    plt.close()\n"
   ],
   "id": "a76d8fa3939b02b0",
   "outputs": [],
   "execution_count": 91
  },
  {
   "metadata": {},
   "cell_type": "markdown",
   "source": "### JUST A TEST",
   "id": "f6c442cfceb471a4"
  },
  {
   "metadata": {
    "ExecuteTime": {
     "end_time": "2024-12-29T11:12:47.902511Z",
     "start_time": "2024-12-29T11:12:47.836972Z"
    }
   },
   "cell_type": "code",
   "source": [
    "joblib.dump(classifier, \"classifier_model.pkl\")\n",
    "joblib.dump(vectorizer, \"vectorizer.pkl\")\n",
    "\n",
    "# Load the saved models\n",
    "loaded_classifier = joblib.load(\"classifier_model.pkl\")\n",
    "loaded_vectorizer = joblib.load(\"vectorizer.pkl\")\n",
    "\n",
    "# Predict on new data\n",
    "new_text = [\n",
    "    \"Source has been split into directories src/main/java and src/test/java, making it easier to exclude tests from builds, and making JUnit more maven-friendly\"]\n",
    "new_vector = loaded_vectorizer.transform(new_text)\n",
    "prediction = loaded_classifier.predict(new_vector)\n",
    "\n",
    "print(\"Predicted Category:\", label_encoder.inverse_transform(prediction))\n"
   ],
   "id": "419cbfbb9e368844",
   "outputs": [
    {
     "name": "stdout",
     "output_type": "stream",
     "text": [
      "Predicted Category: ['Code redesign']\n"
     ]
    }
   ],
   "execution_count": 92
  }
 ],
 "metadata": {
  "kernelspec": {
   "display_name": "Python 3",
   "language": "python",
   "name": "python3"
  },
  "language_info": {
   "codemirror_mode": {
    "name": "ipython",
    "version": 2
   },
   "file_extension": ".py",
   "mimetype": "text/x-python",
   "name": "python",
   "nbconvert_exporter": "python",
   "pygments_lexer": "ipython2",
   "version": "2.7.6"
  }
 },
 "nbformat": 4,
 "nbformat_minor": 5
}
