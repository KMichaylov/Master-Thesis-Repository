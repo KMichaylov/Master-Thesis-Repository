{
 "cells": [
  {
   "metadata": {},
   "cell_type": "markdown",
   "source": "# Case Study Tracing Evolutionary Changes in APIs - Preparation Phase",
   "id": "39e18150cfd283ca"
  },
  {
   "metadata": {},
   "cell_type": "markdown",
   "source": [
    "The following case study aims at performing an analysis on 2 Java APIs. The first API is *JUnit4*, the dataset for which is already constructed from another study. The second API is AppCompat for which we need to manually construct the dataset and analyse the evolution.\n",
    "\n",
    "## Goal\n",
    "Our goal is to investigate the feasibility of the machine learning approach. This will be achieved via the following steps:\n",
    "- Read the Excel sheets and analyze the data\n",
    "- Extract important features such as the \"Changes\" column and then perform Natural Language Processing Techniques on them, such as tokenization\n",
    "- Train the algorithm to perform classification\n",
    "- Check the accuracy of the algorithm\n",
    "- In the final stage, be able to classify solely based on the \"Changes\" column\n",
    "First, we start with importing the necessary libraries and defining the file paths"
   ],
   "id": "c2ef68a00c9599dc"
  },
  {
   "metadata": {},
   "cell_type": "markdown",
   "source": [
    "## Some implementation ideas/goals\n",
    " - Analyse for each category what are the most popular words, basically what infers that there is a Bug change, etc.\n",
    " - Try to predict the category of the change based on the trained data\n",
    " - At later stage, try the following: \"A really interesting question will be which changes impacting the architecture of the system are represented in the release log. This way you essentially combine the two RQs and the make even more sense.\" For example, are breaking changes represented in the release log, etc."
   ],
   "id": "9674425ccc84e094"
  },
  {
   "metadata": {
    "ExecuteTime": {
     "end_time": "2025-02-12T11:25:22.724695Z",
     "start_time": "2025-02-12T11:25:22.719789Z"
    }
   },
   "cell_type": "code",
   "source": [
    "import pandas as pd\n",
    "import re\n",
    "import numpy as np\n",
    "import nltk\n",
    "from nltk import SnowballStemmer, NaiveBayesClassifier\n",
    "from nltk.tokenize import word_tokenize\n",
    "from sklearn.model_selection import train_test_split, KFold, cross_val_score\n",
    "from nltk.corpus import stopwords\n",
    "from nltk.stem import PorterStemmer, SnowballStemmer\n",
    "from sklearn.feature_extraction.text import TfidfVectorizer\n",
    "from sklearn.preprocessing import LabelEncoder\n",
    "import spacy\n",
    "from sklearn.svm import SVC\n",
    "from nltk.stem import WordNetLemmatizer\n",
    "from sklearn.linear_model import LogisticRegression\n",
    "from sklearn.metrics import accuracy_score, classification_report, recall_score, precision_score, f1_score, \\\n",
    "    confusion_matrix\n",
    "# TODO: See if this is useful\n",
    "import joblib"
   ],
   "id": "7a858da6431fc83",
   "outputs": [],
   "execution_count": 185
  },
  {
   "metadata": {
    "ExecuteTime": {
     "end_time": "2025-02-12T11:25:22.748182Z",
     "start_time": "2025-02-12T11:25:22.745133Z"
    }
   },
   "cell_type": "code",
   "source": [
    "# file_path = \"../resources/JUnit/JUnit - Training.xlsx\"\n",
    "# sheet_name = \"JUnit\"\n",
    "file_path = \"../resources/datasets/JUnit.csv\""
   ],
   "id": "e704111592465856",
   "outputs": [],
   "execution_count": 186
  },
  {
   "metadata": {},
   "cell_type": "markdown",
   "source": "After defining our path, the first thing we do is to display part of our data, in order to check if everything is working correctly.",
   "id": "3b93b6a313812eff"
  },
  {
   "metadata": {
    "ExecuteTime": {
     "end_time": "2025-02-12T11:25:22.762478Z",
     "start_time": "2025-02-12T11:25:22.753200Z"
    }
   },
   "cell_type": "code",
   "source": [
    "# data = pd.read_excel(file_path, sheet_name=sheet_name)\n",
    "data = pd.read_csv(file_path, sep=\",\")\n",
    "print(data.head())"
   ],
   "id": "2c3cc6db5c1921fc",
   "outputs": [
    {
     "name": "stdout",
     "output_type": "stream",
     "text": [
      "       Year1  Year        Date Unnamed: 3 Version RELEASE  \\\n",
      "0  +15 years  2021  13/02/2021      4.13.  4.13.2   PATCH   \n",
      "1  +15 years  2021  13/02/2021      4.13.  4.13.2   PATCH   \n",
      "2  +15 years  2021  13/02/2021      4.13.  4.13.2   PATCH   \n",
      "3  +15 years  2021  13/02/2021      4.13.  4.13.2   PATCH   \n",
      "4  +14 years  2020  11/10/2020      4.13.  4.13.1   PATCH   \n",
      "\n",
      "                                             Changes  By  Unnamed: 8 Type  \\\n",
      "0                                                NaN NaN         NaN  NaN   \n",
      "1  Pull request #1687: Mark ThreadGroups created ... NaN       Rules  NaN   \n",
      "2  Pull request $1691: Only create ThreadGroups i... NaN       Rules  NaN   \n",
      "3  Pull request #1654: Fix for issue #1192: NotSe... NaN  Exceptions  NaN   \n",
      "4                                                NaN NaN         NaN  NaN   \n",
      "\n",
      "             General General Category  \n",
      "0                NaN              NaN  \n",
      "1     Fix regression          Bug fix  \n",
      "2     Fix regression          Bug fix  \n",
      "3  Fix serialization          Bug fix  \n",
      "4                NaN              NaN  \n"
     ]
    }
   ],
   "execution_count": 187
  },
  {
   "metadata": {},
   "cell_type": "markdown",
   "source": [
    "### 0. Prepare the datasets\n",
    "Initially, we add the datasets and prepare each one of them to be tested with the aforementioned classifiers."
   ],
   "id": "efa8a1500ab7edf6"
  },
  {
   "metadata": {
    "ExecuteTime": {
     "end_time": "2025-02-12T11:25:22.781870Z",
     "start_time": "2025-02-12T11:25:22.778900Z"
    }
   },
   "cell_type": "code",
   "source": "# TODO:",
   "id": "8b650ad0d3584e9e",
   "outputs": [],
   "execution_count": 188
  },
  {
   "metadata": {},
   "cell_type": "markdown",
   "source": [
    "In the next parts, we will focus on building the classifier.\n",
    "### 1. Tokenize the \"Changes\" column\n",
    "First we clean the data from non-alphabetic characters and then perform the tokenization of the \"Changes\" column. After that we remove any stopwords, so that the output is cleaner and easier to analyse in later steps"
   ],
   "id": "3289874075af974b"
  },
  {
   "metadata": {
    "ExecuteTime": {
     "end_time": "2025-02-12T11:25:22.822703Z",
     "start_time": "2025-02-12T11:25:22.796875Z"
    }
   },
   "cell_type": "code",
   "source": [
    "# Import tokenizer model\n",
    "# Make sure to download the following\n",
    "# nltk.download('punkt')\n",
    "nltk.download('punkt_tab')\n",
    "nltk.download('stopwords')\n",
    "\n",
    "data.dropna(inplace=True, subset=\"Changes\")\n",
    "print(data[\"Changes\"].head())\n",
    "data[\"Tokens\"] = data[\"Changes\"].apply(word_tokenize)\n",
    "\n",
    "# Define the stopwords in a set.\n",
    "stop_words = set(stopwords.words(\"english\"))\n",
    "\n",
    "data[\"Tokens\"] = data[\"Tokens\"].apply(lambda tokens: [word.lower() for word in tokens if re.match(r'^[a-zA-Z]+$',\n",
    "                                                                                                  word) and word.casefold() not in stop_words])\n",
    "print(\"Data without stop words and solely alphabetical tokens: \")\n",
    "# print(data[\"Tokens\"].head())\n"
   ],
   "id": "6183a2610fcaca26",
   "outputs": [
    {
     "name": "stdout",
     "output_type": "stream",
     "text": [
      "1    Pull request #1687: Mark ThreadGroups created ...\n",
      "2    Pull request $1691: Only create ThreadGroups i...\n",
      "3    Pull request #1654: Fix for issue #1192: NotSe...\n",
      "5    Security fix: TemporaryFolder now limits acces...\n",
      "6    Pull request #1669: Make FrameworkField constr...\n",
      "Name: Changes, dtype: object\n",
      "Data without stop words and solely alphabetical tokens: \n"
     ]
    },
    {
     "name": "stderr",
     "output_type": "stream",
     "text": [
      "[nltk_data] Downloading package punkt_tab to\n",
      "[nltk_data]     C:\\Users\\Krisi\\AppData\\Roaming\\nltk_data...\n",
      "[nltk_data]   Package punkt_tab is already up-to-date!\n",
      "[nltk_data] Downloading package stopwords to\n",
      "[nltk_data]     C:\\Users\\Krisi\\AppData\\Roaming\\nltk_data...\n",
      "[nltk_data]   Package stopwords is already up-to-date!\n"
     ]
    }
   ],
   "execution_count": 189
  },
  {
   "metadata": {},
   "cell_type": "markdown",
   "source": [
    "In the next parts, we will focus on building the classifier.\n",
    "### 2. Stem the output\n",
    "The next step is to stem the output, the reason for doing this is to focus on the basic meaning of the word."
   ],
   "id": "fbdb6f062e586764"
  },
  {
   "metadata": {
    "ExecuteTime": {
     "end_time": "2025-02-12T11:25:22.851201Z",
     "start_time": "2025-02-12T11:25:22.837621Z"
    }
   },
   "cell_type": "code",
   "source": [
    "stemmer = SnowballStemmer(\"english\")\n",
    "lemmatizer = WordNetLemmatizer()\n",
    "# Apply the stemmer\n",
    "# data[\"Stemmed_Tokens\"] = data[\"Tokens\"].apply(\n",
    "#     lambda tokens: [stemmer.stem(word) for word in tokens if isinstance(word, str)]\n",
    "# )\n",
    "\n",
    "data[\"Stemmed_Tokens\"] = data[\"Tokens\"].apply(\n",
    "    lambda tokens: [lemmatizer.lemmatize(word) for word in tokens]\n",
    ")\n",
    "\n",
    "print(\"Stemmed tokens: \")\n",
    "print(data[[\"Tokens\", \"Stemmed_Tokens\"]].head())"
   ],
   "id": "a19fb723a52f8c74",
   "outputs": [
    {
     "name": "stdout",
     "output_type": "stream",
     "text": [
      "Stemmed tokens: \n",
      "                                              Tokens  \\\n",
      "1  [pull, request, mark, threadgroups, created, f...   \n",
      "2        [pull, request, create, threadgroups, true]   \n",
      "3  [pull, request, fix, issue, notserializableexc...   \n",
      "5  [security, fix, temporaryfolder, limits, acces...   \n",
      "6  [pull, request, make, frameworkfield, construc...   \n",
      "\n",
      "                                      Stemmed_Tokens  \n",
      "1  [pull, request, mark, threadgroups, created, f...  \n",
      "2        [pull, request, create, threadgroups, true]  \n",
      "3  [pull, request, fix, issue, notserializableexc...  \n",
      "5  [security, fix, temporaryfolder, limit, access...  \n",
      "6  [pull, request, make, frameworkfield, construc...  \n"
     ]
    }
   ],
   "execution_count": 190
  },
  {
   "metadata": {},
   "cell_type": "markdown",
   "source": [
    "### 3. Feature engineering\n",
    "After clearing the input, the next step is to extract features which will be suitable for the machine learning model. For this, we use TF-IDF (Term Frequency-Inverse Document Frequency).\n"
   ],
   "id": "ea09bf9e14d1b680"
  },
  {
   "metadata": {
    "ExecuteTime": {
     "end_time": "2025-02-12T11:25:22.924051Z",
     "start_time": "2025-02-12T11:25:22.910741Z"
    }
   },
   "cell_type": "code",
   "source": [
    "vectorizer = TfidfVectorizer(max_features=1000, ngram_range=(1, 2))\n",
    "# TODO: Check if this is correct and makes sense\n",
    "print(data[\"Stemmed_Tokens\"].head())\n",
    "\n",
    "non_informational_word = {\"pull\", \"issue\"}\n",
    "\n",
    "documents = data[\"Stemmed_Tokens\"].apply(lambda tokens: ' '.join(tokens) if isinstance(tokens, list) else '')\n",
    "\n",
    "# This lowers the accuracy\n",
    "documents = documents.apply(\n",
    "    lambda text: \" \".join(word for word in text.split() if word.lower() not in non_informational_word))\n",
    "\n",
    "# print(documents.head())\n",
    "X = vectorizer.fit_transform(documents)\n",
    "\n",
    "print(X.shape)"
   ],
   "id": "644ce44abc52786d",
   "outputs": [
    {
     "name": "stdout",
     "output_type": "stream",
     "text": [
      "1    [pull, request, mark, threadgroups, created, f...\n",
      "2          [pull, request, create, threadgroups, true]\n",
      "3    [pull, request, fix, issue, notserializableexc...\n",
      "5    [security, fix, temporaryfolder, limit, access...\n",
      "6    [pull, request, make, frameworkfield, construc...\n",
      "Name: Stemmed_Tokens, dtype: object\n",
      "(252, 1000)\n"
     ]
    }
   ],
   "execution_count": 191
  },
  {
   "metadata": {},
   "cell_type": "markdown",
   "source": [
    "### 4. Labels preparation\n",
    "Once the data is prepared, the next step is to define the lables which will be used for categorization."
   ],
   "id": "e591acc2c986dbf9"
  },
  {
   "metadata": {
    "ExecuteTime": {
     "end_time": "2025-02-12T11:25:22.959095Z",
     "start_time": "2025-02-12T11:25:22.954321Z"
    }
   },
   "cell_type": "code",
   "source": [
    "# TODO: I think here I should just hardcode the categories that we are searching\n",
    "label_encoder = LabelEncoder()\n",
    "categories = [\"Bug fix\", \"Add support for a new feature\", \"Documentation\", \"Maintainability improvement\",\n",
    "              \"Update dependency\", \"Performance improvement\", \"Code redesign\", \"Memory improvement\",\n",
    "              \"Quality assurance\", \"Deprecate functionality\" \"Support for external development tool\",\n",
    "              \"Remove support for external development tool\", \"Security improvement\"]\n",
    "# y = label_encoder.fit_transform(categories)\n",
    "# print(y)\n",
    "print(data[\"General Category\"].head())\n",
    "y = label_encoder.fit_transform(data[\"General Category\"])\n",
    "print(y)\n"
   ],
   "id": "31beeba77b5911b",
   "outputs": [
    {
     "name": "stdout",
     "output_type": "stream",
     "text": [
      "[ 1  0  4  5 11  7  2  6  8  3  9 10]\n"
     ]
    }
   ],
   "execution_count": 192
  },
  {
   "metadata": {},
   "cell_type": "markdown",
   "source": [
    "### 5. Split training and testing data\n",
    "The next step is to prepare the training and testing data for the machine learning model. We use the 80/20 rule regarding the split between training and test and the random state 42, to ensure that the experiment is reproducible."
   ],
   "id": "a078e98172ea5daa"
  },
  {
   "metadata": {
    "ExecuteTime": {
     "end_time": "2025-02-12T11:25:23.033928Z",
     "start_time": "2025-02-12T11:25:22.991924Z"
    }
   },
   "cell_type": "code",
   "source": [
    "X_train, X_test, y_train, y_test = train_test_split(X, y, test_size=0.2, random_state=42)\n",
    "print(\"Training data shape: \", X_train.shape)\n",
    "print(\"Test data: \", X_test.shape)\n"
   ],
   "id": "355bfb912371cd14",
   "outputs": [
    {
     "ename": "ValueError",
     "evalue": "Found input variables with inconsistent numbers of samples: [252, 12]",
     "output_type": "error",
     "traceback": [
      "\u001B[1;31m---------------------------------------------------------------------------\u001B[0m",
      "\u001B[1;31mValueError\u001B[0m                                Traceback (most recent call last)",
      "Cell \u001B[1;32mIn[193], line 1\u001B[0m\n\u001B[1;32m----> 1\u001B[0m X_train, X_test, y_train, y_test \u001B[38;5;241m=\u001B[39m \u001B[43mtrain_test_split\u001B[49m\u001B[43m(\u001B[49m\u001B[43mX\u001B[49m\u001B[43m,\u001B[49m\u001B[43m \u001B[49m\u001B[43my\u001B[49m\u001B[43m,\u001B[49m\u001B[43m \u001B[49m\u001B[43mtest_size\u001B[49m\u001B[38;5;241;43m=\u001B[39;49m\u001B[38;5;241;43m0.2\u001B[39;49m\u001B[43m,\u001B[49m\u001B[43m \u001B[49m\u001B[43mrandom_state\u001B[49m\u001B[38;5;241;43m=\u001B[39;49m\u001B[38;5;241;43m42\u001B[39;49m\u001B[43m)\u001B[49m\n\u001B[0;32m      2\u001B[0m \u001B[38;5;28mprint\u001B[39m(\u001B[38;5;124m\"\u001B[39m\u001B[38;5;124mTraining data shape: \u001B[39m\u001B[38;5;124m\"\u001B[39m, X_train\u001B[38;5;241m.\u001B[39mshape)\n\u001B[0;32m      3\u001B[0m \u001B[38;5;28mprint\u001B[39m(\u001B[38;5;124m\"\u001B[39m\u001B[38;5;124mTest data: \u001B[39m\u001B[38;5;124m\"\u001B[39m, X_test\u001B[38;5;241m.\u001B[39mshape)\n",
      "File \u001B[1;32mC:\\Program Files\\Python312\\Lib\\site-packages\\sklearn\\utils\\_param_validation.py:216\u001B[0m, in \u001B[0;36mvalidate_params.<locals>.decorator.<locals>.wrapper\u001B[1;34m(*args, **kwargs)\u001B[0m\n\u001B[0;32m    210\u001B[0m \u001B[38;5;28;01mtry\u001B[39;00m:\n\u001B[0;32m    211\u001B[0m     \u001B[38;5;28;01mwith\u001B[39;00m config_context(\n\u001B[0;32m    212\u001B[0m         skip_parameter_validation\u001B[38;5;241m=\u001B[39m(\n\u001B[0;32m    213\u001B[0m             prefer_skip_nested_validation \u001B[38;5;129;01mor\u001B[39;00m global_skip_validation\n\u001B[0;32m    214\u001B[0m         )\n\u001B[0;32m    215\u001B[0m     ):\n\u001B[1;32m--> 216\u001B[0m         \u001B[38;5;28;01mreturn\u001B[39;00m \u001B[43mfunc\u001B[49m\u001B[43m(\u001B[49m\u001B[38;5;241;43m*\u001B[39;49m\u001B[43margs\u001B[49m\u001B[43m,\u001B[49m\u001B[43m \u001B[49m\u001B[38;5;241;43m*\u001B[39;49m\u001B[38;5;241;43m*\u001B[39;49m\u001B[43mkwargs\u001B[49m\u001B[43m)\u001B[49m\n\u001B[0;32m    217\u001B[0m \u001B[38;5;28;01mexcept\u001B[39;00m InvalidParameterError \u001B[38;5;28;01mas\u001B[39;00m e:\n\u001B[0;32m    218\u001B[0m     \u001B[38;5;66;03m# When the function is just a wrapper around an estimator, we allow\u001B[39;00m\n\u001B[0;32m    219\u001B[0m     \u001B[38;5;66;03m# the function to delegate validation to the estimator, but we replace\u001B[39;00m\n\u001B[0;32m    220\u001B[0m     \u001B[38;5;66;03m# the name of the estimator by the name of the function in the error\u001B[39;00m\n\u001B[0;32m    221\u001B[0m     \u001B[38;5;66;03m# message to avoid confusion.\u001B[39;00m\n\u001B[0;32m    222\u001B[0m     msg \u001B[38;5;241m=\u001B[39m re\u001B[38;5;241m.\u001B[39msub(\n\u001B[0;32m    223\u001B[0m         \u001B[38;5;124mr\u001B[39m\u001B[38;5;124m\"\u001B[39m\u001B[38;5;124mparameter of \u001B[39m\u001B[38;5;124m\\\u001B[39m\u001B[38;5;124mw+ must be\u001B[39m\u001B[38;5;124m\"\u001B[39m,\n\u001B[0;32m    224\u001B[0m         \u001B[38;5;124mf\u001B[39m\u001B[38;5;124m\"\u001B[39m\u001B[38;5;124mparameter of \u001B[39m\u001B[38;5;132;01m{\u001B[39;00mfunc\u001B[38;5;241m.\u001B[39m\u001B[38;5;18m__qualname__\u001B[39m\u001B[38;5;132;01m}\u001B[39;00m\u001B[38;5;124m must be\u001B[39m\u001B[38;5;124m\"\u001B[39m,\n\u001B[0;32m    225\u001B[0m         \u001B[38;5;28mstr\u001B[39m(e),\n\u001B[0;32m    226\u001B[0m     )\n",
      "File \u001B[1;32mC:\\Program Files\\Python312\\Lib\\site-packages\\sklearn\\model_selection\\_split.py:2848\u001B[0m, in \u001B[0;36mtrain_test_split\u001B[1;34m(test_size, train_size, random_state, shuffle, stratify, *arrays)\u001B[0m\n\u001B[0;32m   2845\u001B[0m \u001B[38;5;28;01mif\u001B[39;00m n_arrays \u001B[38;5;241m==\u001B[39m \u001B[38;5;241m0\u001B[39m:\n\u001B[0;32m   2846\u001B[0m     \u001B[38;5;28;01mraise\u001B[39;00m \u001B[38;5;167;01mValueError\u001B[39;00m(\u001B[38;5;124m\"\u001B[39m\u001B[38;5;124mAt least one array required as input\u001B[39m\u001B[38;5;124m\"\u001B[39m)\n\u001B[1;32m-> 2848\u001B[0m arrays \u001B[38;5;241m=\u001B[39m \u001B[43mindexable\u001B[49m\u001B[43m(\u001B[49m\u001B[38;5;241;43m*\u001B[39;49m\u001B[43marrays\u001B[49m\u001B[43m)\u001B[49m\n\u001B[0;32m   2850\u001B[0m n_samples \u001B[38;5;241m=\u001B[39m _num_samples(arrays[\u001B[38;5;241m0\u001B[39m])\n\u001B[0;32m   2851\u001B[0m n_train, n_test \u001B[38;5;241m=\u001B[39m _validate_shuffle_split(\n\u001B[0;32m   2852\u001B[0m     n_samples, test_size, train_size, default_test_size\u001B[38;5;241m=\u001B[39m\u001B[38;5;241m0.25\u001B[39m\n\u001B[0;32m   2853\u001B[0m )\n",
      "File \u001B[1;32mC:\\Program Files\\Python312\\Lib\\site-packages\\sklearn\\utils\\validation.py:532\u001B[0m, in \u001B[0;36mindexable\u001B[1;34m(*iterables)\u001B[0m\n\u001B[0;32m    502\u001B[0m \u001B[38;5;250m\u001B[39m\u001B[38;5;124;03m\"\"\"Make arrays indexable for cross-validation.\u001B[39;00m\n\u001B[0;32m    503\u001B[0m \n\u001B[0;32m    504\u001B[0m \u001B[38;5;124;03mChecks consistent length, passes through None, and ensures that everything\u001B[39;00m\n\u001B[1;32m   (...)\u001B[0m\n\u001B[0;32m    528\u001B[0m \u001B[38;5;124;03m[[1, 2, 3], array([2, 3, 4]), None, <...Sparse...dtype 'int64'...shape (3, 1)>]\u001B[39;00m\n\u001B[0;32m    529\u001B[0m \u001B[38;5;124;03m\"\"\"\u001B[39;00m\n\u001B[0;32m    531\u001B[0m result \u001B[38;5;241m=\u001B[39m [_make_indexable(X) \u001B[38;5;28;01mfor\u001B[39;00m X \u001B[38;5;129;01min\u001B[39;00m iterables]\n\u001B[1;32m--> 532\u001B[0m \u001B[43mcheck_consistent_length\u001B[49m\u001B[43m(\u001B[49m\u001B[38;5;241;43m*\u001B[39;49m\u001B[43mresult\u001B[49m\u001B[43m)\u001B[49m\n\u001B[0;32m    533\u001B[0m \u001B[38;5;28;01mreturn\u001B[39;00m result\n",
      "File \u001B[1;32mC:\\Program Files\\Python312\\Lib\\site-packages\\sklearn\\utils\\validation.py:475\u001B[0m, in \u001B[0;36mcheck_consistent_length\u001B[1;34m(*arrays)\u001B[0m\n\u001B[0;32m    473\u001B[0m uniques \u001B[38;5;241m=\u001B[39m np\u001B[38;5;241m.\u001B[39munique(lengths)\n\u001B[0;32m    474\u001B[0m \u001B[38;5;28;01mif\u001B[39;00m \u001B[38;5;28mlen\u001B[39m(uniques) \u001B[38;5;241m>\u001B[39m \u001B[38;5;241m1\u001B[39m:\n\u001B[1;32m--> 475\u001B[0m     \u001B[38;5;28;01mraise\u001B[39;00m \u001B[38;5;167;01mValueError\u001B[39;00m(\n\u001B[0;32m    476\u001B[0m         \u001B[38;5;124m\"\u001B[39m\u001B[38;5;124mFound input variables with inconsistent numbers of samples: \u001B[39m\u001B[38;5;132;01m%r\u001B[39;00m\u001B[38;5;124m\"\u001B[39m\n\u001B[0;32m    477\u001B[0m         \u001B[38;5;241m%\u001B[39m [\u001B[38;5;28mint\u001B[39m(l) \u001B[38;5;28;01mfor\u001B[39;00m l \u001B[38;5;129;01min\u001B[39;00m lengths]\n\u001B[0;32m    478\u001B[0m     )\n",
      "\u001B[1;31mValueError\u001B[0m: Found input variables with inconsistent numbers of samples: [252, 12]"
     ]
    }
   ],
   "execution_count": 193
  },
  {
   "metadata": {},
   "cell_type": "markdown",
   "source": [
    "### 6. Train model\n",
    "After the data is split and prepared, we then train the classifier. For this we use 3 different ML models for which we check the accuracy, precision, recall and F1 score of the model. We check the following in the next code blocks:\n",
    "1. RandomForrestClassifier\n",
    "2. SVN\n",
    "3. Naive Bayes\n"
   ],
   "id": "a8fabebed7dce91d"
  },
  {
   "metadata": {
    "ExecuteTime": {
     "end_time": "2025-02-12T11:25:23.037951200Z",
     "start_time": "2025-02-12T10:30:45.049971Z"
    }
   },
   "cell_type": "code",
   "source": [
    "from sklearn.ensemble import RandomForestClassifier\n",
    "\n",
    "# Desired Thresholds for metrics:\n",
    "# Accuracy -> above 75%\n",
    "# Precision -> above 70%\n",
    "# Recall -> above 60%\n",
    "# F1-score -> above 55%\n",
    "# clf = SVC()\n",
    "# clf.fit(X_train, y_train)\n",
    "# y_pred = clf.predict(X_test)\n",
    "# accuracy_bow = accuracy_score(y_test, y_pred)\n",
    "# print(accuracy_bow)\n",
    "\n",
    "classifier = RandomForestClassifier(n_estimators=100, random_state=42)\n",
    "classifier.fit(X_train, y_train)\n",
    "# 7. Log loss might also be useful metric\n",
    "y_pred = classifier.predict(X_test)\n",
    "\n",
    "print(\"Accuracy:\", accuracy_score(y_test, y_pred))\n",
    "# We use average, since we care equally about all classes\n",
    "print(\"Recall:\", recall_score(y_test, y_pred, average=\"macro\"))\n",
    "print(\"Precision:\", precision_score(y_test, y_pred, average=\"macro\"))\n",
    "print(\"F1-score:\", f1_score(y_test, y_pred, average=\"macro\"))\n",
    "print(\"Classification Report:\\n\", classification_report(y_test, y_pred))\n",
    "print(\"Confusion Matrix:\\n\", confusion_matrix(y_test, y_pred))"
   ],
   "id": "495f1e215db96e93",
   "outputs": [
    {
     "name": "stdout",
     "output_type": "stream",
     "text": [
      "Accuracy: 0.4727272727272727\n",
      "Recall: 0.24555555555555558\n",
      "Precision: 0.23471786833855796\n",
      "F1-score: 0.18281038110825346\n",
      "Classification Report:\n",
      "               precision    recall  f1-score   support\n",
      "\n",
      "           0       0.55      0.40      0.46        15\n",
      "           1       0.55      0.89      0.68        18\n",
      "           2       0.00      0.00      0.00         7\n",
      "           3       0.00      0.00      0.00         1\n",
      "           4       0.00      0.00      0.00         1\n",
      "           5       1.00      0.17      0.29         6\n",
      "           6       0.00      0.00      0.00         1\n",
      "           7       0.00      0.00      0.00         2\n",
      "           9       0.00      0.00      0.00         1\n",
      "          10       0.25      1.00      0.40         3\n",
      "\n",
      "    accuracy                           0.47        55\n",
      "   macro avg       0.23      0.25      0.18        55\n",
      "weighted avg       0.45      0.47      0.40        55\n",
      "\n",
      "Confusion Matrix:\n",
      " [[ 6  5  1  0  0  0  0  0  0  3]\n",
      " [ 1 16  0  0  0  0  0  0  0  1]\n",
      " [ 1  5  0  0  0  0  0  0  0  1]\n",
      " [ 0  0  0  0  0  0  0  0  0  1]\n",
      " [ 0  0  0  0  0  0  0  0  0  1]\n",
      " [ 2  1  0  0  0  1  0  0  0  2]\n",
      " [ 0  1  0  0  0  0  0  0  0  0]\n",
      " [ 0  1  0  0  1  0  0  0  0  0]\n",
      " [ 1  0  0  0  0  0  0  0  0  0]\n",
      " [ 0  0  0  0  0  0  0  0  0  3]]\n"
     ]
    },
    {
     "name": "stderr",
     "output_type": "stream",
     "text": [
      "C:\\Program Files\\Python312\\Lib\\site-packages\\sklearn\\metrics\\_classification.py:1565: UndefinedMetricWarning: Precision is ill-defined and being set to 0.0 in labels with no predicted samples. Use `zero_division` parameter to control this behavior.\n",
      "  _warn_prf(average, modifier, f\"{metric.capitalize()} is\", len(result))\n",
      "C:\\Program Files\\Python312\\Lib\\site-packages\\sklearn\\metrics\\_classification.py:1565: UndefinedMetricWarning: Precision is ill-defined and being set to 0.0 in labels with no predicted samples. Use `zero_division` parameter to control this behavior.\n",
      "  _warn_prf(average, modifier, f\"{metric.capitalize()} is\", len(result))\n",
      "C:\\Program Files\\Python312\\Lib\\site-packages\\sklearn\\metrics\\_classification.py:1565: UndefinedMetricWarning: Precision is ill-defined and being set to 0.0 in labels with no predicted samples. Use `zero_division` parameter to control this behavior.\n",
      "  _warn_prf(average, modifier, f\"{metric.capitalize()} is\", len(result))\n",
      "C:\\Program Files\\Python312\\Lib\\site-packages\\sklearn\\metrics\\_classification.py:1565: UndefinedMetricWarning: Precision is ill-defined and being set to 0.0 in labels with no predicted samples. Use `zero_division` parameter to control this behavior.\n",
      "  _warn_prf(average, modifier, f\"{metric.capitalize()} is\", len(result))\n"
     ]
    }
   ],
   "execution_count": 115
  },
  {
   "metadata": {},
   "cell_type": "markdown",
   "source": [
    "### 7 Cross Validation Analysis\n",
    "Once the model is trained, in the next section we evaluate it against a cross validation score. The reason for doing so is to attempt to increase the overall model performance on unseen data and limit the possibility of hyperparameter tuning."
   ],
   "id": "1217e0c11a82c545"
  },
  {
   "metadata": {
    "ExecuteTime": {
     "end_time": "2025-02-12T11:25:23.038944400Z",
     "start_time": "2025-02-12T10:30:45.291455Z"
    }
   },
   "cell_type": "code",
   "source": [
    "k_folds = KFold(n_splits=10, random_state=None)\n",
    "\n",
    "k_fold_score_accuracy = cross_val_score(classifier, X, y, cv=k_folds, scoring=\"accuracy\")\n",
    "k_fold_score_precision = cross_val_score(classifier, X, y, cv=k_folds, scoring=\"precision_macro\")\n",
    "k_fold_score_recall = cross_val_score(classifier, X, y, cv=k_folds, scoring=\"recall_macro\")\n",
    "print(\"K-Fold accuracy score: \", k_fold_score_accuracy)\n",
    "print(\"K-Fold precision score: \", k_fold_score_precision)\n",
    "print(\"K-Fold recall score: \", k_fold_score_recall)"
   ],
   "id": "d0f798654bb58f69",
   "outputs": [
    {
     "name": "stderr",
     "output_type": "stream",
     "text": [
      "C:\\Program Files\\Python312\\Lib\\site-packages\\sklearn\\metrics\\_classification.py:1565: UndefinedMetricWarning: Precision is ill-defined and being set to 0.0 in labels with no predicted samples. Use `zero_division` parameter to control this behavior.\n",
      "  _warn_prf(average, modifier, f\"{metric.capitalize()} is\", len(result))\n",
      "C:\\Program Files\\Python312\\Lib\\site-packages\\sklearn\\metrics\\_classification.py:1565: UndefinedMetricWarning: Precision is ill-defined and being set to 0.0 in labels with no predicted samples. Use `zero_division` parameter to control this behavior.\n",
      "  _warn_prf(average, modifier, f\"{metric.capitalize()} is\", len(result))\n",
      "C:\\Program Files\\Python312\\Lib\\site-packages\\sklearn\\metrics\\_classification.py:1565: UndefinedMetricWarning: Precision is ill-defined and being set to 0.0 in labels with no predicted samples. Use `zero_division` parameter to control this behavior.\n",
      "  _warn_prf(average, modifier, f\"{metric.capitalize()} is\", len(result))\n",
      "C:\\Program Files\\Python312\\Lib\\site-packages\\sklearn\\metrics\\_classification.py:1565: UndefinedMetricWarning: Precision is ill-defined and being set to 0.0 in labels with no predicted samples. Use `zero_division` parameter to control this behavior.\n",
      "  _warn_prf(average, modifier, f\"{metric.capitalize()} is\", len(result))\n",
      "C:\\Program Files\\Python312\\Lib\\site-packages\\sklearn\\metrics\\_classification.py:1565: UndefinedMetricWarning: Precision is ill-defined and being set to 0.0 in labels with no predicted samples. Use `zero_division` parameter to control this behavior.\n",
      "  _warn_prf(average, modifier, f\"{metric.capitalize()} is\", len(result))\n",
      "C:\\Program Files\\Python312\\Lib\\site-packages\\sklearn\\metrics\\_classification.py:1565: UndefinedMetricWarning: Precision is ill-defined and being set to 0.0 in labels with no predicted samples. Use `zero_division` parameter to control this behavior.\n",
      "  _warn_prf(average, modifier, f\"{metric.capitalize()} is\", len(result))\n",
      "C:\\Program Files\\Python312\\Lib\\site-packages\\sklearn\\metrics\\_classification.py:1565: UndefinedMetricWarning: Precision is ill-defined and being set to 0.0 in labels with no predicted samples. Use `zero_division` parameter to control this behavior.\n",
      "  _warn_prf(average, modifier, f\"{metric.capitalize()} is\", len(result))\n",
      "C:\\Program Files\\Python312\\Lib\\site-packages\\sklearn\\metrics\\_classification.py:1565: UndefinedMetricWarning: Precision is ill-defined and being set to 0.0 in labels with no predicted samples. Use `zero_division` parameter to control this behavior.\n",
      "  _warn_prf(average, modifier, f\"{metric.capitalize()} is\", len(result))\n",
      "C:\\Program Files\\Python312\\Lib\\site-packages\\sklearn\\metrics\\_classification.py:1565: UndefinedMetricWarning: Precision is ill-defined and being set to 0.0 in labels with no predicted samples. Use `zero_division` parameter to control this behavior.\n",
      "  _warn_prf(average, modifier, f\"{metric.capitalize()} is\", len(result))\n",
      "C:\\Program Files\\Python312\\Lib\\site-packages\\sklearn\\metrics\\_classification.py:1565: UndefinedMetricWarning: Precision is ill-defined and being set to 0.0 in labels with no predicted samples. Use `zero_division` parameter to control this behavior.\n",
      "  _warn_prf(average, modifier, f\"{metric.capitalize()} is\", len(result))\n",
      "C:\\Program Files\\Python312\\Lib\\site-packages\\sklearn\\metrics\\_classification.py:1565: UndefinedMetricWarning: Recall is ill-defined and being set to 0.0 in labels with no true samples. Use `zero_division` parameter to control this behavior.\n",
      "  _warn_prf(average, modifier, f\"{metric.capitalize()} is\", len(result))\n",
      "C:\\Program Files\\Python312\\Lib\\site-packages\\sklearn\\metrics\\_classification.py:1565: UndefinedMetricWarning: Recall is ill-defined and being set to 0.0 in labels with no true samples. Use `zero_division` parameter to control this behavior.\n",
      "  _warn_prf(average, modifier, f\"{metric.capitalize()} is\", len(result))\n"
     ]
    },
    {
     "name": "stdout",
     "output_type": "stream",
     "text": [
      "K-Fold accuracy score:  [0.57142857 0.55555556 0.40740741 0.55555556 0.18518519 0.44444444\n",
      " 0.55555556 0.55555556 0.44444444 0.55555556]\n",
      "K-Fold precision score:  [0.33194444 0.35435993 0.18611111 0.36842105 0.09659864 0.34353741\n",
      " 0.67361111 0.55555556 0.20918367 0.42698413]\n",
      "K-Fold recall score:  [0.4469697  0.30357143 0.3125     0.31135531 0.25238095 0.35934066\n",
      " 0.5        0.54166667 0.35714286 0.47222222]\n"
     ]
    }
   ],
   "execution_count": 116
  },
  {
   "metadata": {},
   "cell_type": "markdown",
   "source": [
    "### 8 Data Exploration and Analysis\n",
    "After training the model, we focus on exploring and visualizing parts of the dataset. Particularly, we check which words are associated to certain classes, what is their frequency and"
   ],
   "id": "58d38d886e8e22b3"
  },
  {
   "metadata": {
    "ExecuteTime": {
     "end_time": "2025-02-12T11:25:23.041944Z",
     "start_time": "2025-02-12T10:30:51.532321Z"
    }
   },
   "cell_type": "code",
   "source": [
    "# Word frequencies\n",
    "from collections import Counter\n",
    "import matplotlib.pyplot as plt\n",
    "\n",
    "all_stemmed_words = [word for tokens in data[\"Stemmed_Tokens\"] for word in tokens]\n",
    "stemmed_word_freq = Counter(all_stemmed_words)\n",
    "\n",
    "most_common_stemmed_words = stemmed_word_freq.most_common(20)\n",
    "words, counts = zip(*most_common_stemmed_words)\n",
    "\n",
    "plt.figure(figsize=(10, 6))\n",
    "plt.bar(words, counts)\n",
    "plt.xticks(rotation=45)\n",
    "plt.title(\"Top 20 Most Frequent Stemmed Words\")\n",
    "plt.show()"
   ],
   "id": "fb2733660f1ff0db",
   "outputs": [
    {
     "data": {
      "text/plain": [
       "<Figure size 1000x600 with 1 Axes>"
      ],
      "image/png": "[encoded data removed]"
     },
     "metadata": {},
     "output_type": "display_data"
    }
   ],
   "execution_count": 117
  },
  {
   "metadata": {
    "ExecuteTime": {
     "end_time": "2025-02-12T11:25:23.055513200Z",
     "start_time": "2025-02-12T10:30:51.728680Z"
    }
   },
   "cell_type": "code",
   "source": [
    "# Dispersion Plots\n",
    "import seaborn as sns\n",
    "\n",
    "category_words = data.groupby('General Category')['Stemmed_Tokens'].apply(\n",
    "    lambda tokens: [word for token_list in tokens for word in token_list]\n",
    ")\n",
    "\n",
    "category_word_freq = category_words.apply(Counter)\n",
    "\n",
    "for category, freq in category_word_freq.items():\n",
    "    most_common = dict(freq.most_common(10))\n",
    "\n",
    "    plt.figure(figsize=(10, 6))\n",
    "    sns.barplot(x=list(most_common.keys()), y=list(most_common.values()))\n",
    "    file_name = category.replace(\" \", \"_\")\n",
    "    plt.title(f\"Top Words in Category: {category}\")\n",
    "    plt.xticks(rotation=45)\n",
    "    plt.tight_layout()\n",
    "\n",
    "    plt.savefig(f\"../resources/diagrams/top_words_{file_name}.png\", format='png')\n",
    "    plt.close()\n"
   ],
   "id": "a76d8fa3939b02b0",
   "outputs": [],
   "execution_count": 118
  },
  {
   "metadata": {},
   "cell_type": "markdown",
   "source": "### JUST A TEST",
   "id": "f6c442cfceb471a4"
  },
  {
   "metadata": {
    "ExecuteTime": {
     "end_time": "2025-02-12T11:25:23.058037800Z",
     "start_time": "2025-02-12T10:30:53.348055Z"
    }
   },
   "cell_type": "code",
   "source": [
    "joblib.dump(classifier, \"classifier_model.pkl\")\n",
    "joblib.dump(vectorizer, \"vectorizer.pkl\")\n",
    "\n",
    "# Load the saved models\n",
    "loaded_classifier = joblib.load(\"classifier_model.pkl\")\n",
    "loaded_vectorizer = joblib.load(\"vectorizer.pkl\")\n",
    "\n",
    "# Predict on new data\n",
    "new_text = [\n",
    "    \"Source has been split into directories src/main/java and src/test/java, making it easier to exclude tests from builds, and making JUnit more maven-friendly\"]\n",
    "new_vector = loaded_vectorizer.transform(new_text)\n",
    "prediction = loaded_classifier.predict(new_vector)\n",
    "\n",
    "print(\"Predicted Category:\", label_encoder.inverse_transform(prediction))\n"
   ],
   "id": "419cbfbb9e368844",
   "outputs": [
    {
     "name": "stdout",
     "output_type": "stream",
     "text": [
      "Predicted Category: ['Code redesign']\n"
     ]
    }
   ],
   "execution_count": 119
  }
 ],
 "metadata": {
  "kernelspec": {
   "display_name": "Python 3",
   "language": "python",
   "name": "python3"
  },
  "language_info": {
   "codemirror_mode": {
    "name": "ipython",
    "version": 2
   },
   "file_extension": ".py",
   "mimetype": "text/x-python",
   "name": "python",
   "nbconvert_exporter": "python",
   "pygments_lexer": "ipython2",
   "version": "2.7.6"
  }
 },
 "nbformat": 4,
 "nbformat_minor": 5
}
