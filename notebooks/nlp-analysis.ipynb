{
 "cells": [
  {
   "metadata": {},
   "cell_type": "markdown",
   "source": "# Case Study Tracing Evolutionary Changes in APIs - Preparation Phase",
   "id": "39e18150cfd283ca"
  },
  {
   "metadata": {},
   "cell_type": "markdown",
   "source": [
    "The following case study aims at performing an analysis on 2 Java APIs. The first API is *JUnit4*, the dataset for which is already constructed from another study. The second API is AppCompat for which we need to manually construct the dataset and analyse the evolution.\n",
    "\n",
    "## Goal\n",
    "Our goal is to investigate the feasibility of the machine learning approach. This will be achieved via the following steps:\n",
    "- Read the Excel sheets and analyze the data\n",
    "- Extract important features such as the \"Changes\" column and then perform Natural Language Processing Techniques on them, such as tokenization\n",
    "- Train the algorithm to perform classification\n",
    "- Check the accuracy of the algorithm\n",
    "- In the final stage, be able to classify solely based on the \"Changes\" column\n",
    "First, we start with importing the necessary libraries and defining the file paths"
   ],
   "id": "c2ef68a00c9599dc"
  },
  {
   "metadata": {},
   "cell_type": "markdown",
   "source": [
    "## Some implementation ideas/goals\n",
    " - Analyse for each category what are the most popular words, basically what infers that there is a Bug change, etc.\n",
    " - Try to predict the category of the change based on the trained data\n",
    " - At later stage, try the following: \"A really interesting question will be which changes impacting the architecture of the system are represented in the release log. This way you essentially combine the two RQs and the make even more sense.\" For example, are breaking changes represented in the release log, etc."
   ],
   "id": "9674425ccc84e094"
  },
  {
   "metadata": {
    "ExecuteTime": {
     "end_time": "2025-02-12T22:16:09.336232Z",
     "start_time": "2025-02-12T22:16:04.793923Z"
    }
   },
   "cell_type": "code",
   "source": [
    "import pandas as pd\n",
    "import re\n",
    "import numpy as np\n",
    "import nltk\n",
    "from nltk import SnowballStemmer, NaiveBayesClassifier\n",
    "from nltk.tokenize import word_tokenize\n",
    "from sklearn.model_selection import train_test_split, KFold, cross_val_score\n",
    "from nltk.corpus import stopwords\n",
    "from nltk.stem import PorterStemmer, SnowballStemmer\n",
    "from sklearn.feature_extraction.text import TfidfVectorizer\n",
    "from sklearn.preprocessing import LabelEncoder\n",
    "import spacy\n",
    "from sklearn.svm import SVC\n",
    "from nltk.stem import WordNetLemmatizer\n",
    "from sklearn.linear_model import LogisticRegression\n",
    "from sklearn.metrics import accuracy_score, classification_report, recall_score, precision_score, f1_score, \\\n",
    "    confusion_matrix\n",
    "# TODO: See if this is useful\n",
    "import joblib"
   ],
   "id": "7a858da6431fc83",
   "outputs": [],
   "execution_count": 1
  },
  {
   "metadata": {
    "ExecuteTime": {
     "end_time": "2025-02-12T22:16:09.355846Z",
     "start_time": "2025-02-12T22:16:09.352233Z"
    }
   },
   "cell_type": "code",
   "source": [
    "# file_path = \"../resources/JUnit/JUnit - Training.xlsx\"\n",
    "# sheet_name = \"JUnit\"\n",
    "file_path = \"../resources/datasets/Apache Commons Lang and Commons Lang.csv\""
   ],
   "id": "e704111592465856",
   "outputs": [],
   "execution_count": 2
  },
  {
   "metadata": {},
   "cell_type": "markdown",
   "source": "After defining our path, the first thing we do is to display part of our data, in order to check if everything is working correctly.",
   "id": "3b93b6a313812eff"
  },
  {
   "metadata": {
    "ExecuteTime": {
     "end_time": "2025-02-12T22:16:09.406721Z",
     "start_time": "2025-02-12T22:16:09.386848Z"
    }
   },
   "cell_type": "code",
   "source": [
    "# data = pd.read_excel(file_path, sheet_name=sheet_name)\n",
    "data = pd.read_csv(file_path, sep=\",\")\n",
    "print(data.head())"
   ],
   "id": "2c3cc6db5c1921fc",
   "outputs": [
    {
     "name": "stdout",
     "output_type": "stream",
     "text": [
      "   Year        Date Unnamed: 2 Version Release  \\\n",
      "0  2021  26/02/2021      3.12.  3.12.0   MINOR   \n",
      "1  2021  26/02/2021      3.12.  3.12.0   MINOR   \n",
      "2  2021  26/02/2021      3.12.  3.12.0   MINOR   \n",
      "3  2021  26/02/2021      3.12.  3.12.0   MINOR   \n",
      "4  2021  26/02/2021      3.12.  3.12.0   MINOR   \n",
      "\n",
      "                                             Changes        By Unnamed: 7  \\\n",
      "0                                                NaN       NaN        NaN   \n",
      "1  Correct implementation of RandomUtils.nextLong...  aherbert        NaN   \n",
      "2  Restore handling of collections for non-JSON T...  ggregory        NaN   \n",
      "3  ContextedException Javadoc add missing semicol...  ggregory    JavaDoc   \n",
      "4  Resolve JUnit pioneer transitive dependencies ...  aherbert    pom.xml   \n",
      "\n",
      "                                                Type  \\\n",
      "0                                                NaN   \n",
      "1                                                NaN   \n",
      "2  Restore previous behaviour because of problems...   \n",
      "3                                        Fix JavaDoc   \n",
      "4                                                NaN   \n",
      "\n",
      "                    General   General Category Unnamed: 11 Unnamed: 12  \n",
      "0                       NaN                NaN         NaN         NaN  \n",
      "1  Fix wrong implementation            Bug fix  Corrective         NaN  \n",
      "2            Fix regression            Bug fix  Corrective         NaN  \n",
      "3         Fix documentation      Documentation         NaN         NaN  \n",
      "4            Fix dependency  Update dependency         NaN         NaN  \n"
     ]
    }
   ],
   "execution_count": 3
  },
  {
   "metadata": {},
   "cell_type": "markdown",
   "source": [
    "### 0. Prepare the datasets\n",
    "Initially, we add the datasets and prepare each one of them to be tested with the aforementioned classifiers."
   ],
   "id": "efa8a1500ab7edf6"
  },
  {
   "metadata": {
    "ExecuteTime": {
     "end_time": "2025-02-12T22:16:09.867282Z",
     "start_time": "2025-02-12T22:16:09.864227Z"
    }
   },
   "cell_type": "code",
   "source": "# TODO:",
   "id": "8b650ad0d3584e9e",
   "outputs": [],
   "execution_count": 4
  },
  {
   "metadata": {},
   "cell_type": "markdown",
   "source": [
    "In the next parts, we will focus on building the classifier.\n",
    "### 1. Tokenize the \"Changes\" column\n",
    "First we clean the data from non-alphabetic characters and then perform the tokenization of the \"Changes\" column. After that we remove any stopwords, so that the output is cleaner and easier to analyse in later steps"
   ],
   "id": "3289874075af974b"
  },
  {
   "metadata": {
    "ExecuteTime": {
     "end_time": "2025-02-12T22:16:10.180962Z",
     "start_time": "2025-02-12T22:16:09.878305Z"
    }
   },
   "cell_type": "code",
   "source": [
    "# Import tokenizer model\n",
    "# Make sure to download the following\n",
    "# nltk.download('punkt')\n",
    "nltk.download('punkt_tab')\n",
    "nltk.download('stopwords')\n",
    "\n",
    "data.dropna(inplace=True, subset=\"Changes\")\n",
    "print(data[\"Changes\"].head())\n",
    "data[\"Tokens\"] = data[\"Changes\"].apply(word_tokenize)\n",
    "\n",
    "# Define the stopwords in a set.\n",
    "stop_words = set(stopwords.words(\"english\"))\n",
    "\n",
    "data[\"Tokens\"] = data[\"Tokens\"].apply(lambda tokens: [word.lower() for word in tokens if re.match(r'^[a-zA-Z]+$',\n",
    "                                                                                                  word) and word.casefold() not in stop_words])\n",
    "print(\"Data without stop words and solely alphabetical tokens: \")\n",
    "# print(data[\"Tokens\"].head())\n"
   ],
   "id": "6183a2610fcaca26",
   "outputs": [
    {
     "name": "stdout",
     "output_type": "stream",
     "text": [
      "1    Correct implementation of RandomUtils.nextLong...\n",
      "2    Restore handling of collections for non-JSON T...\n",
      "3    ContextedException Javadoc add missing semicol...\n",
      "4    Resolve JUnit pioneer transitive dependencies ...\n",
      "5    NumberUtilsTest - incorrect types in min/max t...\n",
      "Name: Changes, dtype: object\n"
     ]
    },
    {
     "name": "stderr",
     "output_type": "stream",
     "text": [
      "[nltk_data] Downloading package punkt_tab to\n",
      "[nltk_data]     C:\\Users\\Krisi\\AppData\\Roaming\\nltk_data...\n",
      "[nltk_data]   Package punkt_tab is already up-to-date!\n",
      "[nltk_data] Downloading package stopwords to\n",
      "[nltk_data]     C:\\Users\\Krisi\\AppData\\Roaming\\nltk_data...\n",
      "[nltk_data]   Package stopwords is already up-to-date!\n"
     ]
    },
    {
     "name": "stdout",
     "output_type": "stream",
     "text": [
      "Data without stop words and solely alphabetical tokens: \n"
     ]
    }
   ],
   "execution_count": 5
  },
  {
   "metadata": {},
   "cell_type": "markdown",
   "source": [
    "In the next parts, we will focus on building the classifier.\n",
    "### 2. Stem the output\n",
    "The next step is to stem the output, the reason for doing this is to focus on the basic meaning of the word."
   ],
   "id": "fbdb6f062e586764"
  },
  {
   "metadata": {
    "ExecuteTime": {
     "end_time": "2025-02-12T22:16:12.501623Z",
     "start_time": "2025-02-12T22:16:10.194585Z"
    }
   },
   "cell_type": "code",
   "source": [
    "stemmer = SnowballStemmer(\"english\")\n",
    "lemmatizer = WordNetLemmatizer()\n",
    "# Apply the stemmer\n",
    "# data[\"Stemmed_Tokens\"] = data[\"Tokens\"].apply(\n",
    "#     lambda tokens: [stemmer.stem(word) for word in tokens if isinstance(word, str)]\n",
    "# )\n",
    "\n",
    "data[\"Stemmed_Tokens\"] = data[\"Tokens\"].apply(\n",
    "    lambda tokens: [lemmatizer.lemmatize(word) for word in tokens]\n",
    ")\n",
    "\n",
    "print(\"Stemmed tokens: \")\n",
    "print(data[[\"Tokens\", \"Stemmed_Tokens\"]].head())"
   ],
   "id": "a19fb723a52f8c74",
   "outputs": [
    {
     "name": "stdout",
     "output_type": "stream",
     "text": [
      "Stemmed tokens: \n",
      "                                              Tokens  \\\n",
      "1  [correct, implementation, long, long, fixes, t...   \n",
      "2  [restore, handling, collections, tostringstyle...   \n",
      "3  [contextedexception, javadoc, add, missing, se...   \n",
      "4  [resolve, junit, pioneer, transitive, dependen...   \n",
      "5  [numberutilstest, incorrect, types, tests, tha...   \n",
      "\n",
      "                                      Stemmed_Tokens  \n",
      "1  [correct, implementation, long, long, fix, tha...  \n",
      "2  [restore, handling, collection, tostringstyle,...  \n",
      "3  [contextedexception, javadoc, add, missing, se...  \n",
      "4  [resolve, junit, pioneer, transitive, dependen...  \n",
      "5  [numberutilstest, incorrect, type, test, thank...  \n"
     ]
    }
   ],
   "execution_count": 6
  },
  {
   "metadata": {},
   "cell_type": "markdown",
   "source": [
    "### 3. Feature engineering\n",
    "After clearing the input, the next step is to extract features which will be suitable for the machine learning model. For this, we use TF-IDF (Term Frequency-Inverse Document Frequency).\n"
   ],
   "id": "ea09bf9e14d1b680"
  },
  {
   "metadata": {
    "ExecuteTime": {
     "end_time": "2025-02-12T22:16:12.546292Z",
     "start_time": "2025-02-12T22:16:12.518851Z"
    }
   },
   "cell_type": "code",
   "source": [
    "vectorizer = TfidfVectorizer(max_features=1000, ngram_range=(1, 2))\n",
    "# TODO: Check if this is correct and makes sense\n",
    "print(data[\"Stemmed_Tokens\"].head())\n",
    "\n",
    "non_informational_word = {\"pull\", \"issue\"}\n",
    "\n",
    "documents = data[\"Stemmed_Tokens\"].apply(lambda tokens: ' '.join(tokens) if isinstance(tokens, list) else '')\n",
    "\n",
    "# This lowers the accuracy\n",
    "documents = documents.apply(\n",
    "    lambda text: \" \".join(word for word in text.split() if word.lower() not in non_informational_word))\n",
    "\n",
    "# print(documents.head())\n",
    "X = vectorizer.fit_transform(documents)\n",
    "\n",
    "print(X.shape)"
   ],
   "id": "644ce44abc52786d",
   "outputs": [
    {
     "name": "stdout",
     "output_type": "stream",
     "text": [
      "1    [correct, implementation, long, long, fix, tha...\n",
      "2    [restore, handling, collection, tostringstyle,...\n",
      "3    [contextedexception, javadoc, add, missing, se...\n",
      "4    [resolve, junit, pioneer, transitive, dependen...\n",
      "5    [numberutilstest, incorrect, type, test, thank...\n",
      "Name: Stemmed_Tokens, dtype: object\n",
      "(1106, 1000)\n"
     ]
    }
   ],
   "execution_count": 7
  },
  {
   "metadata": {},
   "cell_type": "markdown",
   "source": [
    "### 4. Labels preparation\n",
    "Once the data is prepared, the next step is to define the lables which will be used for categorization."
   ],
   "id": "e591acc2c986dbf9"
  },
  {
   "metadata": {
    "ExecuteTime": {
     "end_time": "2025-02-12T22:16:12.567469Z",
     "start_time": "2025-02-12T22:16:12.561671Z"
    }
   },
   "cell_type": "code",
   "source": [
    "# TODO: I think here I should just hardcode the categories that we are searching\n",
    "label_encoder = LabelEncoder()\n",
    "categories = [\"Bug fix\", \"Add support for a new feature\", \"Documentation\", \"Maintainability improvement\",\n",
    "              \"Update dependency\", \"Performance improvement\", \"Code redesign\", \"Memory improvement\",\n",
    "              \"Quality assurance\", \"Deprecate functionality\" \"Support for external development tool\",\n",
    "              \"Remove support for external development tool\", \"Security improvement\"]\n",
    "# y = label_encoder.fit_transform(categories)\n",
    "# print(y)\n",
    "print(data[\"General Category\"].head())\n",
    "y = label_encoder.fit_transform(data[\"General Category\"])\n",
    "print(y)\n"
   ],
   "id": "31beeba77b5911b",
   "outputs": [
    {
     "name": "stdout",
     "output_type": "stream",
     "text": [
      "1              Bug fix\n",
      "2              Bug fix\n",
      "3        Documentation\n",
      "4    Update dependency\n",
      "5              Bug fix\n",
      "Name: General Category, dtype: object\n",
      "[1 1 4 ... 0 1 1]\n"
     ]
    }
   ],
   "execution_count": 8
  },
  {
   "metadata": {},
   "cell_type": "markdown",
   "source": [
    "### 5. Split training and testing data\n",
    "The next step is to prepare the training and testing data for the machine learning model. We use the 80/20 rule regarding the split between training and test and the random state 42, to ensure that the experiment is reproducible."
   ],
   "id": "a078e98172ea5daa"
  },
  {
   "metadata": {
    "ExecuteTime": {
     "end_time": "2025-02-12T22:16:12.605149Z",
     "start_time": "2025-02-12T22:16:12.597985Z"
    }
   },
   "cell_type": "code",
   "source": [
    "X_train, X_test, y_train, y_test = train_test_split(X, y, test_size=0.2, random_state=42)\n",
    "print(\"Training data shape: \", X_train.shape)\n",
    "print(\"Test data: \", X_test.shape)\n"
   ],
   "id": "355bfb912371cd14",
   "outputs": [
    {
     "name": "stdout",
     "output_type": "stream",
     "text": [
      "Training data shape:  (884, 1000)\n",
      "Test data:  (222, 1000)\n"
     ]
    }
   ],
   "execution_count": 9
  },
  {
   "metadata": {},
   "cell_type": "markdown",
   "source": [
    "### 6. Train model\n",
    "After the data is split and prepared, we then train the classifier. For this we use 3 different ML models for which we check the accuracy, precision, recall and F1 score of the model. We check the following in the next code blocks:\n",
    "1. RandomForrestClassifier\n",
    "2. SVN\n",
    "3. Naive Bayes\n"
   ],
   "id": "a8fabebed7dce91d"
  },
  {
   "metadata": {
    "ExecuteTime": {
     "end_time": "2025-02-12T22:16:13.664229Z",
     "start_time": "2025-02-12T22:16:12.657674Z"
    }
   },
   "cell_type": "code",
   "source": [
    "from sklearn.ensemble import RandomForestClassifier\n",
    "\n",
    "# Desired Thresholds for metrics:\n",
    "# Accuracy -> above 75%\n",
    "# Precision -> above 70%\n",
    "# Recall -> above 60%\n",
    "# F1-score -> above 55%\n",
    "# clf = SVC()\n",
    "# clf.fit(X_train, y_train)\n",
    "# y_pred = clf.predict(X_test)\n",
    "# accuracy_bow = accuracy_score(y_test, y_pred)\n",
    "# print(accuracy_bow)\n",
    "\n",
    "classifier = RandomForestClassifier(n_estimators=100, random_state=42)\n",
    "classifier.fit(X_train, y_train)\n",
    "# 7. Log loss might also be useful metric\n",
    "y_pred = classifier.predict(X_test)\n",
    "\n",
    "print(\"Accuracy:\", accuracy_score(y_test, y_pred))\n",
    "# We use average, since we care equally about all classes\n",
    "print(\"Recall:\", recall_score(y_test, y_pred, average=\"macro\"))\n",
    "print(\"Precision:\", precision_score(y_test, y_pred, average=\"macro\"))\n",
    "print(\"F1-score:\", f1_score(y_test, y_pred, average=\"macro\"))\n",
    "print(\"Classification Report:\\n\", classification_report(y_test, y_pred))\n",
    "print(\"Confusion Matrix:\\n\", confusion_matrix(y_test, y_pred))"
   ],
   "id": "495f1e215db96e93",
   "outputs": [
    {
     "name": "stdout",
     "output_type": "stream",
     "text": [
      "Accuracy: 0.7162162162162162\n",
      "Recall: 0.3955178026916111\n",
      "Precision: 0.4925621763857059\n",
      "F1-score: 0.41905065174859896\n",
      "Classification Report:\n",
      "               precision    recall  f1-score   support\n",
      "\n",
      "           0       0.81      0.82      0.81        67\n",
      "           1       0.64      0.90      0.75        70\n",
      "           2       0.00      0.00      0.00         6\n",
      "           3       1.00      0.50      0.67         2\n",
      "           4       0.88      0.68      0.76        31\n",
      "           5       0.44      0.27      0.33        15\n",
      "           6       0.00      0.00      0.00         2\n",
      "           7       1.00      0.40      0.57        10\n",
      "           8       0.00      0.00      0.00         3\n",
      "          10       0.00      0.00      0.00         2\n",
      "          11       0.65      0.79      0.71        14\n",
      "\n",
      "    accuracy                           0.72       222\n",
      "   macro avg       0.49      0.40      0.42       222\n",
      "weighted avg       0.69      0.72      0.69       222\n",
      "\n",
      "Confusion Matrix:\n",
      " [[55 10  1  0  1  0  0  0  0  0  0]\n",
      " [ 6 63  0  0  0  1  0  0  0  0  0]\n",
      " [ 2  2  0  0  0  1  0  0  0  0  1]\n",
      " [ 0  1  0  1  0  0  0  0  0  0  0]\n",
      " [ 1  6  0  0 21  2  0  0  0  0  1]\n",
      " [ 2  7  0  0  1  4  0  0  0  0  1]\n",
      " [ 0  2  0  0  0  0  0  0  0  0  0]\n",
      " [ 2  3  0  0  0  1  0  4  0  0  0]\n",
      " [ 0  0  0  0  1  0  0  0  0  0  2]\n",
      " [ 0  1  0  0  0  0  0  0  0  0  1]\n",
      " [ 0  3  0  0  0  0  0  0  0  0 11]]\n"
     ]
    },
    {
     "name": "stderr",
     "output_type": "stream",
     "text": [
      "C:\\Program Files\\Python312\\Lib\\site-packages\\sklearn\\metrics\\_classification.py:1565: UndefinedMetricWarning: Precision is ill-defined and being set to 0.0 in labels with no predicted samples. Use `zero_division` parameter to control this behavior.\n",
      "  _warn_prf(average, modifier, f\"{metric.capitalize()} is\", len(result))\n",
      "C:\\Program Files\\Python312\\Lib\\site-packages\\sklearn\\metrics\\_classification.py:1565: UndefinedMetricWarning: Precision is ill-defined and being set to 0.0 in labels with no predicted samples. Use `zero_division` parameter to control this behavior.\n",
      "  _warn_prf(average, modifier, f\"{metric.capitalize()} is\", len(result))\n",
      "C:\\Program Files\\Python312\\Lib\\site-packages\\sklearn\\metrics\\_classification.py:1565: UndefinedMetricWarning: Precision is ill-defined and being set to 0.0 in labels with no predicted samples. Use `zero_division` parameter to control this behavior.\n",
      "  _warn_prf(average, modifier, f\"{metric.capitalize()} is\", len(result))\n",
      "C:\\Program Files\\Python312\\Lib\\site-packages\\sklearn\\metrics\\_classification.py:1565: UndefinedMetricWarning: Precision is ill-defined and being set to 0.0 in labels with no predicted samples. Use `zero_division` parameter to control this behavior.\n",
      "  _warn_prf(average, modifier, f\"{metric.capitalize()} is\", len(result))\n"
     ]
    }
   ],
   "execution_count": 10
  },
  {
   "metadata": {},
   "cell_type": "markdown",
   "source": [
    "### 7 Cross Validation Analysis\n",
    "Once the model is trained, in the next section we evaluate it against a cross validation score. The reason for doing so is to attempt to increase the overall model performance on unseen data and limit the possibility of hyperparameter tuning."
   ],
   "id": "1217e0c11a82c545"
  },
  {
   "metadata": {
    "ExecuteTime": {
     "end_time": "2025-02-12T22:16:27.550151Z",
     "start_time": "2025-02-12T22:16:13.678753Z"
    }
   },
   "cell_type": "code",
   "source": [
    "k_folds = KFold(n_splits=10, random_state=None)\n",
    "\n",
    "k_fold_score_accuracy = cross_val_score(classifier, X, y, cv=k_folds, scoring=\"accuracy\")\n",
    "k_fold_score_precision = cross_val_score(classifier, X, y, cv=k_folds, scoring=\"precision_macro\")\n",
    "k_fold_score_recall = cross_val_score(classifier, X, y, cv=k_folds, scoring=\"recall_macro\")\n",
    "print(\"K-Fold accuracy score: \", k_fold_score_accuracy)\n",
    "print(\"K-Fold precision score: \", k_fold_score_precision)\n",
    "print(\"K-Fold recall score: \", k_fold_score_recall)"
   ],
   "id": "d0f798654bb58f69",
   "outputs": [
    {
     "name": "stderr",
     "output_type": "stream",
     "text": [
      "C:\\Program Files\\Python312\\Lib\\site-packages\\sklearn\\metrics\\_classification.py:1565: UndefinedMetricWarning: Precision is ill-defined and being set to 0.0 in labels with no predicted samples. Use `zero_division` parameter to control this behavior.\n",
      "  _warn_prf(average, modifier, f\"{metric.capitalize()} is\", len(result))\n",
      "C:\\Program Files\\Python312\\Lib\\site-packages\\sklearn\\metrics\\_classification.py:1565: UndefinedMetricWarning: Precision is ill-defined and being set to 0.0 in labels with no predicted samples. Use `zero_division` parameter to control this behavior.\n",
      "  _warn_prf(average, modifier, f\"{metric.capitalize()} is\", len(result))\n",
      "C:\\Program Files\\Python312\\Lib\\site-packages\\sklearn\\metrics\\_classification.py:1565: UndefinedMetricWarning: Precision is ill-defined and being set to 0.0 in labels with no predicted samples. Use `zero_division` parameter to control this behavior.\n",
      "  _warn_prf(average, modifier, f\"{metric.capitalize()} is\", len(result))\n",
      "C:\\Program Files\\Python312\\Lib\\site-packages\\sklearn\\metrics\\_classification.py:1565: UndefinedMetricWarning: Precision is ill-defined and being set to 0.0 in labels with no predicted samples. Use `zero_division` parameter to control this behavior.\n",
      "  _warn_prf(average, modifier, f\"{metric.capitalize()} is\", len(result))\n",
      "C:\\Program Files\\Python312\\Lib\\site-packages\\sklearn\\metrics\\_classification.py:1565: UndefinedMetricWarning: Precision is ill-defined and being set to 0.0 in labels with no predicted samples. Use `zero_division` parameter to control this behavior.\n",
      "  _warn_prf(average, modifier, f\"{metric.capitalize()} is\", len(result))\n",
      "C:\\Program Files\\Python312\\Lib\\site-packages\\sklearn\\metrics\\_classification.py:1565: UndefinedMetricWarning: Precision is ill-defined and being set to 0.0 in labels with no predicted samples. Use `zero_division` parameter to control this behavior.\n",
      "  _warn_prf(average, modifier, f\"{metric.capitalize()} is\", len(result))\n",
      "C:\\Program Files\\Python312\\Lib\\site-packages\\sklearn\\metrics\\_classification.py:1565: UndefinedMetricWarning: Precision is ill-defined and being set to 0.0 in labels with no predicted samples. Use `zero_division` parameter to control this behavior.\n",
      "  _warn_prf(average, modifier, f\"{metric.capitalize()} is\", len(result))\n",
      "C:\\Program Files\\Python312\\Lib\\site-packages\\sklearn\\metrics\\_classification.py:1565: UndefinedMetricWarning: Precision is ill-defined and being set to 0.0 in labels with no predicted samples. Use `zero_division` parameter to control this behavior.\n",
      "  _warn_prf(average, modifier, f\"{metric.capitalize()} is\", len(result))\n",
      "C:\\Program Files\\Python312\\Lib\\site-packages\\sklearn\\metrics\\_classification.py:1565: UndefinedMetricWarning: Precision is ill-defined and being set to 0.0 in labels with no predicted samples. Use `zero_division` parameter to control this behavior.\n",
      "  _warn_prf(average, modifier, f\"{metric.capitalize()} is\", len(result))\n",
      "C:\\Program Files\\Python312\\Lib\\site-packages\\sklearn\\metrics\\_classification.py:1565: UndefinedMetricWarning: Precision is ill-defined and being set to 0.0 in labels with no predicted samples. Use `zero_division` parameter to control this behavior.\n",
      "  _warn_prf(average, modifier, f\"{metric.capitalize()} is\", len(result))\n",
      "C:\\Program Files\\Python312\\Lib\\site-packages\\sklearn\\metrics\\_classification.py:1565: UndefinedMetricWarning: Recall is ill-defined and being set to 0.0 in labels with no true samples. Use `zero_division` parameter to control this behavior.\n",
      "  _warn_prf(average, modifier, f\"{metric.capitalize()} is\", len(result))\n"
     ]
    },
    {
     "name": "stdout",
     "output_type": "stream",
     "text": [
      "K-Fold accuracy score:  [0.62162162 0.7027027  0.67567568 0.73873874 0.73873874 0.65765766\n",
      " 0.62727273 0.78181818 0.81818182 0.63636364]\n",
      "K-Fold precision score:  [0.66222527 0.47874963 0.45869548 0.63908811 0.40579108 0.32594571\n",
      " 0.61215539 0.54980288 0.32343733 0.36096286]\n",
      "K-Fold recall score:  [0.49960956 0.34325461 0.32175325 0.53321105 0.294451   0.26113757\n",
      " 0.4064264  0.48384354 0.35375624 0.28500452]\n"
     ]
    },
    {
     "name": "stderr",
     "output_type": "stream",
     "text": [
      "C:\\Program Files\\Python312\\Lib\\site-packages\\sklearn\\metrics\\_classification.py:1565: UndefinedMetricWarning: Recall is ill-defined and being set to 0.0 in labels with no true samples. Use `zero_division` parameter to control this behavior.\n",
      "  _warn_prf(average, modifier, f\"{metric.capitalize()} is\", len(result))\n"
     ]
    }
   ],
   "execution_count": 11
  },
  {
   "metadata": {},
   "cell_type": "markdown",
   "source": [
    "### 8 Data Exploration and Analysis\n",
    "After training the model, we focus on exploring and visualizing parts of the dataset. Particularly, we check which words are associated to certain classes, what is their frequency and"
   ],
   "id": "58d38d886e8e22b3"
  },
  {
   "metadata": {
    "ExecuteTime": {
     "end_time": "2025-02-12T22:16:27.814341Z",
     "start_time": "2025-02-12T22:16:27.564678Z"
    }
   },
   "cell_type": "code",
   "source": [
    "# Word frequencies\n",
    "from collections import Counter\n",
    "import matplotlib.pyplot as plt\n",
    "\n",
    "all_stemmed_words = [word for tokens in data[\"Stemmed_Tokens\"] for word in tokens]\n",
    "stemmed_word_freq = Counter(all_stemmed_words)\n",
    "\n",
    "most_common_stemmed_words = stemmed_word_freq.most_common(20)\n",
    "words, counts = zip(*most_common_stemmed_words)\n",
    "\n",
    "plt.figure(figsize=(10, 6))\n",
    "plt.bar(words, counts)\n",
    "plt.xticks(rotation=45)\n",
    "plt.title(\"Top 20 Most Frequent Stemmed Words\")\n",
    "plt.show()"
   ],
   "id": "fb2733660f1ff0db",
   "outputs": [
    {
     "data": {
      "text/plain": [
       "<Figure size 1000x600 with 1 Axes>"
      ],
      "image/png": "[encoded data removed]"
     },
     "metadata": {},
     "output_type": "display_data"
    }
   ],
   "execution_count": 12
  },
  {
   "metadata": {
    "ExecuteTime": {
     "end_time": "2025-02-12T22:16:29.748171Z",
     "start_time": "2025-02-12T22:16:27.829181Z"
    }
   },
   "cell_type": "code",
   "source": [
    "# Dispersion Plots\n",
    "import seaborn as sns\n",
    "\n",
    "category_words = data.groupby('General Category')['Stemmed_Tokens'].apply(\n",
    "    lambda tokens: [word for token_list in tokens for word in token_list]\n",
    ")\n",
    "\n",
    "category_word_freq = category_words.apply(Counter)\n",
    "\n",
    "for category, freq in category_word_freq.items():\n",
    "    most_common = dict(freq.most_common(10))\n",
    "\n",
    "    plt.figure(figsize=(10, 6))\n",
    "    sns.barplot(x=list(most_common.keys()), y=list(most_common.values()))\n",
    "    file_name = category.replace(\" \", \"_\")\n",
    "    plt.title(f\"Top Words in Category: {category}\")\n",
    "    plt.xticks(rotation=45)\n",
    "    plt.tight_layout()\n",
    "\n",
    "    plt.savefig(f\"../resources/diagrams/top_words_{file_name}.png\", format='png')\n",
    "    plt.close()\n"
   ],
   "id": "a76d8fa3939b02b0",
   "outputs": [],
   "execution_count": 13
  },
  {
   "metadata": {},
   "cell_type": "markdown",
   "source": "### JUST A TEST",
   "id": "f6c442cfceb471a4"
  },
  {
   "metadata": {
    "ExecuteTime": {
     "end_time": "2025-02-12T22:16:29.854023Z",
     "start_time": "2025-02-12T22:16:29.764491Z"
    }
   },
   "cell_type": "code",
   "source": [
    "joblib.dump(classifier, \"classifier_model.pkl\")\n",
    "joblib.dump(vectorizer, \"vectorizer.pkl\")\n",
    "\n",
    "# Load the saved models\n",
    "loaded_classifier = joblib.load(\"classifier_model.pkl\")\n",
    "loaded_vectorizer = joblib.load(\"vectorizer.pkl\")\n",
    "\n",
    "# Predict on new data\n",
    "new_text = [\n",
    "    \"Source has been split into directories src/main/java and src/test/java, making it easier to exclude tests from builds, and making JUnit more maven-friendly\"]\n",
    "new_vector = loaded_vectorizer.transform(new_text)\n",
    "prediction = loaded_classifier.predict(new_vector)\n",
    "\n",
    "print(\"Predicted Category:\", label_encoder.inverse_transform(prediction))\n"
   ],
   "id": "419cbfbb9e368844",
   "outputs": [
    {
     "name": "stdout",
     "output_type": "stream",
     "text": [
      "Predicted Category: ['Update dependency']\n"
     ]
    }
   ],
   "execution_count": 14
  }
 ],
 "metadata": {
  "kernelspec": {
   "display_name": "Python 3",
   "language": "python",
   "name": "python3"
  },
  "language_info": {
   "codemirror_mode": {
    "name": "ipython",
    "version": 2
   },
   "file_extension": ".py",
   "mimetype": "text/x-python",
   "name": "python",
   "nbconvert_exporter": "python",
   "pygments_lexer": "ipython2",
   "version": "2.7.6"
  }
 },
 "nbformat": 4,
 "nbformat_minor": 5
}
