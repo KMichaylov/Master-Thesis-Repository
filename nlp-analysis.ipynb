{
 "cells": [
  {
   "metadata": {},
   "cell_type": "markdown",
   "source": "# Case Study Preparation Phase",
   "id": "39e18150cfd283ca"
  },
  {
   "metadata": {},
   "cell_type": "markdown",
   "source": "The following case study aims at performing an analysis on 2 Java APIs. The first API is *JUnit4*, the dataset for which is already constructed from another study. The second API is AppCompat for which we need to manually construct the dataset and analyse the evolution.",
   "id": "c2ef68a00c9599dc"
  },
  {
   "metadata": {
    "ExecuteTime": {
     "end_time": "2024-12-10T22:57:23.912054Z",
     "start_time": "2024-12-10T22:57:23.896737Z"
    }
   },
   "cell_type": "code",
   "source": [
    "import pandas as pd\n",
    "\n"
   ],
   "id": "7a858da6431fc83",
   "outputs": [],
   "execution_count": 4
  },
  {
   "metadata": {
    "ExecuteTime": {
     "end_time": "2024-12-10T22:57:23.930098Z",
     "start_time": "2024-12-10T22:57:23.914669Z"
    }
   },
   "cell_type": "code",
   "source": [
    "file_path = \"resources/JUnit/JUnit - Training.xlsx\"\n",
    "sheet_name = \"JUnit\""
   ],
   "id": "e704111592465856",
   "outputs": [],
   "execution_count": 5
  },
  {
   "metadata": {},
   "cell_type": "markdown",
   "source": "After defining our path, the first thing we do is to display part of our data, in order to check if everything is working correctly.",
   "id": "3b93b6a313812eff"
  },
  {
   "metadata": {
    "ExecuteTime": {
     "end_time": "2024-12-10T22:57:24.026337Z",
     "start_time": "2024-12-10T22:57:23.938888Z"
    }
   },
   "cell_type": "code",
   "source": [
    "df = pd.read_excel(file_path, sheet_name=sheet_name)\n",
    "\n",
    "print(df.head())"
   ],
   "id": "2c3cc6db5c1921fc",
   "outputs": [
    {
     "name": "stdout",
     "output_type": "stream",
     "text": [
      "       Year1  Year       Date        Version RELEASE  \\\n",
      "0  +15 years  2021 2021-02-13  4.13.  4.13.2   PATCH   \n",
      "1  +15 years  2021 2021-02-13  4.13.  4.13.2   PATCH   \n",
      "2  +15 years  2021 2021-02-13  4.13.  4.13.2   PATCH   \n",
      "3  +15 years  2021 2021-02-13  4.13.  4.13.2   PATCH   \n",
      "4  +14 years  2020 2020-10-11  4.13.  4.13.1   PATCH   \n",
      "\n",
      "                                             Changes  By          .1 Type  \\\n",
      "0                                                NaN NaN         NaN  NaN   \n",
      "1  Pull request #1687: Mark ThreadGroups created ... NaN       Rules  NaN   \n",
      "2  Pull request $1691: Only create ThreadGroups i... NaN       Rules  NaN   \n",
      "3  Pull request #1654: Fix for issue #1192: NotSe... NaN  Exceptions  NaN   \n",
      "4                                                NaN NaN         NaN  NaN   \n",
      "\n",
      "             General General Category  \n",
      "0                NaN              NaN  \n",
      "1     Fix regression          Bug fix  \n",
      "2     Fix regression          Bug fix  \n",
      "3  Fix serialization          Bug fix  \n",
      "4                NaN              NaN  \n",
      "Hello World\n"
     ]
    }
   ],
   "execution_count": 6
  }
 ],
 "metadata": {
  "kernelspec": {
   "display_name": "Python 3",
   "language": "python",
   "name": "python3"
  },
  "language_info": {
   "codemirror_mode": {
    "name": "ipython",
    "version": 2
   },
   "file_extension": ".py",
   "mimetype": "text/x-python",
   "name": "python",
   "nbconvert_exporter": "python",
   "pygments_lexer": "ipython2",
   "version": "2.7.6"
  }
 },
 "nbformat": 4,
 "nbformat_minor": 5
}
